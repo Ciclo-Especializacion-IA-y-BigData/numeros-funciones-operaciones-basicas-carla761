{
  "cells": [
    {
      "cell_type": "markdown",
      "metadata": {
        "id": "kVOUulfR1Vwn"
      },
      "source": [
        "# Numpy\n",
        "\n",
        "---\n",
        "\n",
        "## Introducción a NumPy\n",
        "\n",
        "### ¿Qué es NumPy?\n",
        "\n",
        "**NumPy** (del inglés *Numerical Python*) es una **biblioteca de Python** diseñada para trabajar con **arrays** (también llamados *vectores* o *matrices* de datos numéricos).\n",
        "\n",
        "Además de manejar datos en forma de arrays, NumPy incluye muchas funciones matemáticas avanzadas:\n",
        "\n",
        "* Álgebra lineal (matrices, vectores, determinantes...).\n",
        "* Transformadas de Fourier.\n",
        "* Operaciones con números complejos.\n",
        "\n",
        "**Fue creada en 2005 por Travis Oliphant** y es un proyecto de **código abierto**, lo que significa que puedes usarla libremente y también contribuir a mejorarla.\n",
        "\n",
        "---\n",
        "\n",
        "### ¿Por qué usar NumPy?\n",
        "\n",
        "En Python ya existen las **listas**, que pueden parecer similares a los arrays, pero hay una gran diferencia:\n",
        "👉 **las listas son mucho más lentas** para cálculos numéricos.\n",
        "\n",
        "NumPy proporciona un **objeto especial llamado `ndarray`** (abreviatura de *n-dimensional array*), que está diseñado para ejecutar operaciones **hasta 50 veces más rápido** que una lista tradicional.\n",
        "\n",
        "Esto se debe a que:\n",
        "\n",
        "* Los arrays de NumPy están **optimizados para cálculo numérico intensivo**.\n",
        "* Incluyen **funciones vectorizadas**, que aplican operaciones a todos los elementos a la vez, sin bucles.\n",
        "* Permiten aprovechar **la arquitectura del procesador (CPU)** de forma más eficiente.\n",
        "\n",
        "💡 **En ciencia de datos e inteligencia artificial**, los arrays son fundamentales porque se trabaja constantemente con grandes volúmenes de números (imágenes, registros, medidas, etc.).\n",
        "Cuanto más rápido se procesen, mejor.\n",
        "\n",
        "---\n",
        "\n",
        "*¿Qué es la ciencia de datos?*\n",
        "\n",
        "La **ciencia de datos (Data Science)** es una rama de la informática que estudia **cómo almacenar, usar y analizar datos** para obtener conocimiento o tomar decisiones.\n",
        "\n",
        "\n",
        "\n",
        "---\n",
        "\n",
        "### ¿Por qué NumPy es más rápido que las listas?\n",
        "\n",
        "La diferencia está en **cómo se guardan los datos en la memoria del ordenador**.\n",
        "\n",
        "* Una **lista de Python** guarda los elementos de forma dispersa (cada número puede estar en una zona distinta de la memoria).\n",
        "* Un **array de NumPy** guarda todos los datos **en un único bloque continuo** de memoria.\n",
        "\n",
        "Esto permite al procesador:\n",
        "\n",
        "* Acceder a los datos más rápidamente.\n",
        "* Aplicar operaciones matemáticas a todos los elementos sin repetir pasos innecesarios.\n",
        "\n",
        "Este principio se llama **localidad de referencia**, y es clave para entender por qué NumPy es tan veloz.\n",
        "\n",
        "---\n",
        "\n",
        "### ¿En qué lenguaje está escrito NumPy?\n",
        "\n",
        "Aunque tú lo usas desde Python, **la mayor parte del código de NumPy está escrita en C y C++**, lenguajes mucho más rápidos.\n",
        "Python actúa como una “capa amigable” para que podamos usar esa potencia sin complicarnos con código bajo nivel.\n",
        "\n",
        "---\n",
        "\n",
        "### ¿Dónde se encuentra el código de NumPy?\n",
        "\n",
        "NumPy es **software libre y colaborativo**.\n",
        "Su código fuente está disponible en GitHub:\n",
        "🔗 [https://github.com/numpy/numpy](https://github.com/numpy/numpy)\n",
        "\n",
        "GitHub es una plataforma donde desarrolladores de todo el mundo pueden trabajar juntos en un mismo proyecto, añadir mejoras y corregir errores.\n",
        "\n",
        "---\n",
        "\n"
      ]
    },
    {
      "cell_type": "markdown",
      "metadata": {
        "id": "zeFefsfZ1gDO"
      },
      "source": [
        "## Empezando con NumPy 🚀\n",
        "\n",
        "### Instalación de NumPy\n",
        "\n",
        "Si ya tienes **Python** y **PIP** instalados en tu ordenador, instalar NumPy es muy sencillo.\n",
        "\n",
        "Abre una **terminal** (o el símbolo del sistema en Windows) y escribe:\n"
      ]
    },
    {
      "cell_type": "code",
      "execution_count": null,
      "metadata": {
        "id": "o7MNFGUG07Ml"
      },
      "outputs": [],
      "source": [
        "pip install numpy"
      ]
    },
    {
      "cell_type": "markdown",
      "metadata": {
        "id": "A6aGLKwyM9yJ"
      },
      "source": [
        "Si usas **Google Colab**, no necesitas instalar nada: NumPy ya viene incluido.\n",
        "Si trabajas en **VS Code**, **Jupyter Notebook** o **Anaconda**, también suele venir preinstalado.\n",
        "\n",
        "En caso de que el comando falle, puedes instalar una **distribución de Python** que ya incluya NumPy y otras herramientas científicas:\n",
        "\n",
        "* [Anaconda](https://www.anaconda.com/)\n",
        "* [Spyder](https://www.spyder-ide.org/)\n",
        "* [Google Colab](https://colab.research.google.com)"
      ]
    },
    {
      "cell_type": "markdown",
      "metadata": {
        "id": "XBm2QiJO1nDm"
      },
      "source": [
        "### Importar NumPy en tu programa\n",
        "\n",
        "Una vez instalado, para usar NumPy debes **importarlo** en tu código con la palabra clave `import`"
      ]
    },
    {
      "cell_type": "code",
      "execution_count": null,
      "metadata": {
        "id": "r1apVW4P1r0P"
      },
      "outputs": [],
      "source": [
        "import numpy"
      ]
    },
    {
      "cell_type": "markdown",
      "metadata": {
        "id": "Rsdtisf7M9yL"
      },
      "source": [
        "A partir de este momento, puedes acceder a todas las funciones de NumPy.\n",
        "\n",
        "Ejemplo:"
      ]
    },
    {
      "cell_type": "code",
      "execution_count": null,
      "metadata": {
        "id": "yQWqseA61r3I"
      },
      "outputs": [],
      "source": [
        "import numpy\n",
        "\n",
        "arr = numpy.array([1, 2, 3, 4, 5])\n",
        "print(arr)"
      ]
    },
    {
      "cell_type": "markdown",
      "metadata": {
        "id": "4Z6O2l1UM9yM"
      },
      "source": [
        "### Usar un alias: `np`\n",
        "\n",
        "En casi todos los programas verás que NumPy se importa con un **alias**, normalmente `np`.\n",
        "Esto ahorra tiempo al escribir y hace el código más limpio.\n",
        "\n",
        "👉 *Un alias* en Python es simplemente un **nombre alternativo** para referirse a la misma librería u objeto.\n",
        "\n",
        "Ejemplo:"
      ]
    },
    {
      "cell_type": "markdown",
      "metadata": {
        "id": "A6IVLt-EM9yN"
      },
      "source": [
        "import numpy as np\n",
        "\n",
        "arr = np.array([1, 2, 3, 4, 5])\n",
        "print(arr)"
      ]
    },
    {
      "cell_type": "markdown",
      "metadata": {
        "id": "GU7BDHDFM9yN"
      },
      "source": [
        "Ahora puedes escribir `np.array()` en lugar de `numpy.array()`.\n",
        "Ambos significan lo mismo.\n",
        "\n",
        "---\n",
        "\n",
        "### Comprobar la versión instalada\n",
        "\n",
        "Si quieres saber qué versión de NumPy estás utilizando, puedes hacerlo con el atributo especial `__version__`:"
      ]
    },
    {
      "cell_type": "code",
      "execution_count": null,
      "metadata": {
        "id": "4pMWyZV71r53",
        "colab": {
          "base_uri": "https://localhost:8080/"
        },
        "outputId": "fd450373-3b8c-40e2-da52-c459cd902a2a"
      },
      "outputs": [
        {
          "output_type": "stream",
          "name": "stdout",
          "text": [
            "2.0.2\n"
          ]
        }
      ],
      "source": [
        "import numpy as np\n",
        "\n",
        "print(np.__version__)"
      ]
    },
    {
      "cell_type": "markdown",
      "metadata": {
        "id": "bgAR4dPGM9yP"
      },
      "source": [
        "## Creación de Arrays en NumPy\n",
        "\n",
        "### El objeto principal: `ndarray`\n",
        "\n",
        "NumPy se usa para trabajar con **arrays**, que son estructuras donde guardamos **muchos valores numéricos** juntos (como listas, pero mucho más rápidas).\n",
        "\n",
        "El objeto que representa un array en NumPy se llama **`ndarray`**, que significa *N-dimensional array*.\n",
        "\n",
        "Podemos crear un `ndarray` usando la función `np.array()`.\n",
        "\n",
        "Ejemplo:"
      ]
    },
    {
      "cell_type": "code",
      "execution_count": null,
      "metadata": {
        "colab": {
          "base_uri": "https://localhost:8080/"
        },
        "id": "uvzU949q1r8h",
        "outputId": "4d5ea7af-0401-4b81-b86d-2b557ed67f2b"
      },
      "outputs": [
        {
          "output_type": "stream",
          "name": "stdout",
          "text": [
            "[1 2 3 4 5]\n",
            "<class 'numpy.ndarray'>\n"
          ]
        }
      ],
      "source": [
        "import numpy as np\n",
        "\n",
        "arr = np.array([1, 2, 3, 4, 5])\n",
        "print(arr)\n",
        "\n",
        "print(type(arr))"
      ]
    },
    {
      "cell_type": "markdown",
      "metadata": {
        "id": "_8wROptUM9yP"
      },
      "source": [
        "👉 La función integrada `type()` nos dice el tipo de objeto.\n",
        "En este caso, `arr` es de tipo `numpy.ndarray`.\n",
        "\n",
        "---\n",
        "\n",
        "### Crear un array a partir de otros tipos\n",
        "\n",
        "Puedes pasarle a `np.array()`:\n",
        "\n",
        "* una **lista** (`[ ]`),\n",
        "* una **tupla** (`( )`),\n",
        "* o incluso otro **array**.\n",
        "\n",
        "NumPy los convierte automáticamente en un `ndarray`.\n",
        "\n",
        "Ejemplo (usando una tupla):"
      ]
    },
    {
      "cell_type": "code",
      "execution_count": null,
      "metadata": {
        "colab": {
          "base_uri": "https://localhost:8080/"
        },
        "id": "0aQ0Ng-S1r_q",
        "outputId": "f11b8141-f375-4a7d-9f49-c3027f43cb9a"
      },
      "outputs": [
        {
          "output_type": "stream",
          "name": "stdout",
          "text": [
            "[1 2 3 4 5]\n"
          ]
        }
      ],
      "source": [
        "import numpy as np\n",
        "\n",
        "arr = np.array((1, 2, 3, 4, 5))\n",
        "print(arr)"
      ]
    },
    {
      "cell_type": "markdown",
      "metadata": {
        "id": "oCRcWebfM9yQ"
      },
      "source": [
        "---\n",
        "\n",
        "## Dimensiones en los arrays\n",
        "\n",
        "Cada **nivel de anidamiento** dentro de un array se llama **dimensión**.\n",
        "\n",
        "👉 Un *array anidado* (o *nested array*) es aquel que contiene otros arrays dentro.\n",
        "\n",
        "| Nivel | Tipo de array | Descripción breve             |\n",
        "| ----- | ------------- | ----------------------------- |\n",
        "| 0-D   | Escalar       | Un solo valor.                |\n",
        "| 1-D   | Vector        | Una lista de números.         |\n",
        "| 2-D   | Matriz        | Una tabla (filas y columnas). |\n",
        "| 3-D   | Tensor        | Varias matrices juntas.       |\n",
        "\n",
        "---\n",
        "\n",
        "### 0-D (Escalar)\n",
        "\n",
        "Un **0-D array** contiene un único valor, por ejemplo un número."
      ]
    },
    {
      "cell_type": "code",
      "execution_count": null,
      "metadata": {
        "colab": {
          "base_uri": "https://localhost:8080/"
        },
        "id": "ZY2Eoxfg1sCn",
        "outputId": "eae97246-268e-41b2-9013-508cf108a149"
      },
      "outputs": [
        {
          "output_type": "stream",
          "name": "stdout",
          "text": [
            "42\n"
          ]
        }
      ],
      "source": [
        "import numpy as np\n",
        "arr = np.array(42)\n",
        "print(arr)"
      ]
    },
    {
      "cell_type": "markdown",
      "metadata": {
        "id": "x6x7rCwPM9yR"
      },
      "source": [
        "Cada número individual dentro de un array puede verse como un *array 0-D*.\n",
        "\n",
        "---\n",
        "\n",
        "### 1-D (Vector)\n",
        "\n",
        "Un **array unidimensional** tiene varios valores en una sola línea, como una lista.\n"
      ]
    },
    {
      "cell_type": "code",
      "execution_count": null,
      "metadata": {
        "id": "0nrrCRTE2ES-",
        "colab": {
          "base_uri": "https://localhost:8080/"
        },
        "outputId": "f831950c-48ed-4b29-e769-44297def951b"
      },
      "outputs": [
        {
          "output_type": "stream",
          "name": "stdout",
          "text": [
            "[1 2 3 4 5]\n"
          ]
        }
      ],
      "source": [
        "import numpy as np\n",
        "arr = np.array([1, 2, 3, 4, 5])\n",
        "print(arr)"
      ]
    },
    {
      "cell_type": "markdown",
      "metadata": {
        "id": "OHlrdI3OM9yS"
      },
      "source": [
        "Es el tipo más común y básico de array.\n",
        "\n",
        "---\n",
        "\n",
        "### 2-D (Matriz)\n",
        "\n",
        "Un **array bidimensional** tiene filas y columnas, igual que una tabla o una hoja de cálculo.\n",
        "Cada fila es un array 1-D."
      ]
    },
    {
      "cell_type": "code",
      "execution_count": null,
      "metadata": {
        "colab": {
          "base_uri": "https://localhost:8080/"
        },
        "id": "0Hc1vW5g2EWD",
        "outputId": "c8a9d23c-ae03-4286-9951-a894b8ab67a5"
      },
      "outputs": [
        {
          "output_type": "stream",
          "name": "stdout",
          "text": [
            "[[1 2 3]\n",
            " [4 5 6]]\n"
          ]
        }
      ],
      "source": [
        "import numpy as np\n",
        "arr = np.array([[1, 2, 3], [4, 5, 6]])\n",
        "print(arr)"
      ]
    },
    {
      "cell_type": "markdown",
      "metadata": {
        "id": "L9PtgdTQM9yT"
      },
      "source": [
        " En álgebra lineal, esto se conoce como una **matriz**.\n",
        "NumPy incluye un submódulo específico para matrices (`numpy.mat`).\n",
        "\n",
        "---\n",
        "\n",
        "### 3-D (Tensor)\n",
        "\n",
        "Un **array tridimensional** contiene varias matrices.\n",
        "Este tipo de estructura se usa mucho en **Inteligencia Artificial**, especialmente con imágenes (que tienen alto, ancho y canales de color)."
      ]
    },
    {
      "cell_type": "code",
      "execution_count": null,
      "metadata": {
        "colab": {
          "base_uri": "https://localhost:8080/"
        },
        "id": "9tTZ204A2EYu",
        "outputId": "6094b825-620d-4e43-f955-723ade184b52"
      },
      "outputs": [
        {
          "output_type": "stream",
          "name": "stdout",
          "text": [
            "[[[1 2 3]\n",
            "  [4 5 6]]\n",
            "\n",
            " [[1 2 3]\n",
            "  [4 5 6]]]\n"
          ]
        }
      ],
      "source": [
        "import numpy as np\n",
        "arr = np.array([\n",
        "  [[1, 2, 3], [4, 5, 6]],\n",
        "  [[1, 2, 3], [4, 5, 6]]\n",
        "])\n",
        "print(arr)"
      ]
    },
    {
      "cell_type": "markdown",
      "metadata": {
        "id": "kmQ3J9xiM9yT"
      },
      "source": [
        "---\n",
        "\n",
        "### Comprobar el número de dimensiones\n",
        "\n",
        "Cada array de NumPy tiene un atributo especial llamado **`.ndim`**, que indica cuántas dimensiones tiene.\n",
        "\n",
        "Ejemplo:"
      ]
    },
    {
      "cell_type": "code",
      "execution_count": null,
      "metadata": {
        "colab": {
          "base_uri": "https://localhost:8080/"
        },
        "id": "jIOxjoys2EbW",
        "outputId": "e37c3604-72ac-47e0-c738-8924c09ec115"
      },
      "outputs": [
        {
          "output_type": "stream",
          "name": "stdout",
          "text": [
            "0\n",
            "1\n",
            "2\n",
            "3\n"
          ]
        }
      ],
      "source": [
        "import numpy as np\n",
        "\n",
        "a = np.array(42)\n",
        "b = np.array([1, 2, 3, 4, 5])\n",
        "c = np.array([[1, 2, 3], [4, 5, 6]])\n",
        "d = np.array([\n",
        "  [[1, 2, 3], [4, 5, 6]],\n",
        "  [[1, 2, 3], [4, 5, 6]]\n",
        "])\n",
        "\n",
        "print(a.ndim)\n",
        "print(b.ndim)\n",
        "print(c.ndim)\n",
        "print(d.ndim)"
      ]
    },
    {
      "cell_type": "markdown",
      "metadata": {
        "id": "L4CYOrilM9yT"
      },
      "source": [
        "---\n",
        "\n",
        "### Arrays de más dimensiones\n",
        "\n",
        "NumPy permite crear arrays con **tantas dimensiones como necesites**.\n",
        "Esto se define con el parámetro `ndmin`.\n",
        "\n",
        "Ejemplo:"
      ]
    },
    {
      "cell_type": "code",
      "execution_count": null,
      "metadata": {
        "colab": {
          "base_uri": "https://localhost:8080/"
        },
        "id": "6Gd5Ck3V2Eer",
        "outputId": "c6ea1d84-e6d4-4947-e4eb-6cf6690a6775"
      },
      "outputs": [
        {
          "output_type": "stream",
          "name": "stdout",
          "text": [
            "[[[[[1 2 3 4]]]]]\n",
            "Número de dimensiones: 5\n"
          ]
        }
      ],
      "source": [
        "import numpy as np\n",
        "\n",
        "arr = np.array([1, 2, 3, 4], ndmin=5)\n",
        "print(arr)\n",
        "print('Número de dimensiones:', arr.ndim)"
      ]
    },
    {
      "cell_type": "markdown",
      "metadata": {
        "id": "1HXdivefM9yU"
      },
      "source": [
        "Aquí:\n",
        "\n",
        "* La 5ª dimensión tiene 4 elementos (los números).\n",
        "* La 4ª contiene ese vector.\n",
        "* La 3ª es una matriz que lo incluye.\n",
        "* La 2ª y 1ª son niveles superiores que envuelven todo el conjunto.\n",
        "\n",
        "💡 En IA, estas estructuras se utilizan para representar **tensores** de datos (por ejemplo, una colección de imágenes o secuencias temporales)."
      ]
    },
    {
      "cell_type": "markdown",
      "metadata": {
        "id": "lbuBdoAUM9yU"
      },
      "source": [
        "---\n",
        "\n",
        "### Resumen\n",
        "\n",
        "| Dimensión | Forma del array              | Ejemplo en Python                                     | Representación |\n",
        "| --------- | ---------------------------- | ----------------------------------------------------- | -------------- |\n",
        "| 0-D       | `()`                         | `np.array(7)`                                         | `7`            |\n",
        "| 1-D       | `(n,)`                       | `np.array([1,2,3])`                                   | `[1 2 3]`      |\n",
        "| 2-D       | `(filas, columnas)`          | `np.array([[1,2,3],[4,5,6]])`                         | tabla          |\n",
        "| 3-D       | `(bloques, filas, columnas)` | `np.array([[[1,2,3],[4,5,6]], [[7,8,9],[10,11,12]]])` | cubo           |\n",
        "| n-D       | `(dim1, dim2, ..., dimN)`    | `np.array([1,2], ndmin=5)`                            | tensor         |\n",
        "\n",
        "---\n",
        "\n",
        "## <font color=\"red\"> Actividad práctica 1</font>\n",
        "\n",
        "1. Crea en tu entorno tres arrays diferentes:\n",
        "\n",
        "   * Un escalar (0-D) con el número 10.\n",
        "   * Un vector (1-D) con los números del 1 al 5.\n",
        "   * Una matriz (2-D) de dos filas y tres columnas con los números del 1 al 6.\n",
        "2. Muestra el número de dimensiones (`.ndim`) de cada uno.\n",
        "3. Usa `ndmin=4` para crear un array con 4 dimensiones y explora su forma.\n",
        "4. Explica con tus palabras qué significa “dimensión” en un array.\n",
        "\n",
        "---"
      ]
    },
    {
      "cell_type": "code",
      "execution_count": null,
      "metadata": {
        "colab": {
          "base_uri": "https://localhost:8080/"
        },
        "id": "sNnHe3ScM9yU",
        "outputId": "3150e557-4a27-4b6e-f582-1e2bc16bb334"
      },
      "outputs": [
        {
          "output_type": "stream",
          "name": "stdout",
          "text": [
            "Escalar: 10\n",
            "Vector: [1 2 3 4 5]\n",
            "Matriz: [[1 2 3]\n",
            " [4 5 6]]\n",
            "Dimensión escalar: 0\n",
            "Dimensión vector: 1\n",
            "Dimensión matriz: 2\n",
            "Tensor: [[[[2 4 6 8]]]]\n",
            "Dimensión: cada nivel de anidamiento dentro de un array\n"
          ]
        }
      ],
      "source": [
        "import numpy as np\n",
        "\n",
        "# Ejercicio 1\n",
        "escalar = np.array(10)\n",
        "vector = np.array([1, 2, 3, 4, 5])\n",
        "matriz = np.array([[1, 2, 3], [4, 5, 6]])\n",
        "print(\"Escalar:\", escalar)\n",
        "print(\"Vector:\", vector)\n",
        "print(\"Matriz:\", matriz)\n",
        "\n",
        "# Ejercicio 2\n",
        "print(\"Dimensión escalar:\", escalar.ndim)\n",
        "print(\"Dimensión vector:\", vector.ndim)\n",
        "print(\"Dimensión matriz:\", matriz.ndim)\n",
        "\n",
        "# Ejercicio 3\n",
        "tensor = np.array([2,4,6,8], ndmin=4)\n",
        "print(\"Tensor:\", tensor)\n",
        "\n",
        "# Ejercicio 4\n",
        "print(\"Dimensión: cada nivel de anidamiento dentro de un array\")"
      ]
    },
    {
      "cell_type": "markdown",
      "metadata": {
        "id": "4xNlaZAGM9yU"
      },
      "source": [
        "# Indexación en Arrays de NumPy\n",
        "\n",
        "## Acceder a elementos de un array\n",
        "\n",
        "La **indexación** consiste en acceder a los valores individuales dentro de un array.\n",
        "Funciona de forma muy parecida a las **listas de Python**.\n",
        "\n",
        "📌 En NumPy, los índices **comienzan en 0**:\n",
        "\n",
        "* El primer elemento tiene índice `0`.\n",
        "* El segundo elemento tiene índice `1`.\n",
        "* El tercero tiene índice `2`, y así sucesivamente.\n",
        "\n",
        "---\n",
        "\n",
        "## Ejemplo básico (1-D)"
      ]
    },
    {
      "cell_type": "code",
      "execution_count": null,
      "metadata": {
        "id": "jZi9lUCN2EiB"
      },
      "outputs": [],
      "source": [
        "import numpy as np\n",
        "\n",
        "arr = np.array([1, 2, 3, 4])\n",
        "\n",
        "print(arr[0])  # Primer elemento"
      ]
    },
    {
      "cell_type": "markdown",
      "metadata": {
        "id": "k0TyjoLLM9yV"
      },
      "source": [
        "---\n",
        "\n",
        "### Acceder a distintos elementos"
      ]
    },
    {
      "cell_type": "code",
      "execution_count": null,
      "metadata": {
        "id": "DY0PAZZIM9yV"
      },
      "outputs": [],
      "source": [
        "import numpy as np\n",
        "\n",
        "arr = np.array([1, 2, 3, 4])\n",
        "\n",
        "print(arr[1])        # Segundo elemento → 2\n",
        "print(arr[2] + arr[3])  # Suma del 3º y 4º elementos → 7"
      ]
    },
    {
      "cell_type": "markdown",
      "metadata": {
        "id": "N_yHhiKQM9yV"
      },
      "source": [
        "Recuerda:\n",
        "`arr[índice]` devuelve el elemento en la posición indicada.\n",
        "\n",
        "---\n",
        "\n",
        "## Indexación en Arrays 2-D (matrices)\n",
        "\n",
        "Los arrays de **dos dimensiones** se pueden imaginar como **tablas con filas y columnas**.\n",
        "\n",
        "Para acceder a un elemento: usamos una pareja de índices separados por coma:\n",
        "\n",
        "```python\n",
        "arr[fila, columna]\n",
        "```\n",
        "Ejemplo:\n"
      ]
    },
    {
      "cell_type": "code",
      "execution_count": null,
      "metadata": {
        "colab": {
          "base_uri": "https://localhost:8080/"
        },
        "id": "MOTnqSyqM9yV",
        "outputId": "34fdcbad-ee62-4209-c200-b670bf9ff2d6"
      },
      "outputs": [
        {
          "output_type": "stream",
          "name": "stdout",
          "text": [
            "2º elemento de la 1ª fila: 2\n",
            "5º elemento de la 2ª fila: 10\n"
          ]
        }
      ],
      "source": [
        "import numpy as np\n",
        "\n",
        "arr = np.array([[1, 2, 3, 4, 5],\n",
        "                [6, 7, 8, 9, 10]])\n",
        "\n",
        "print(\"2º elemento de la 1ª fila:\", arr[0, 1])\n",
        "print(\"5º elemento de la 2ª fila:\", arr[1, 4])"
      ]
    },
    {
      "cell_type": "markdown",
      "metadata": {
        "id": "tkGkOuUZM9yh"
      },
      "source": [
        " Piensa que:\n",
        "\n",
        "* El **primer índice** selecciona la **fila**.\n",
        "* El **segundo índice** selecciona la **columna** dentro de esa fila.\n",
        "\n",
        "---\n",
        "\n",
        "## Indexación en Arrays 3-D (tensores)\n",
        "\n",
        "Los arrays de tres dimensiones pueden verse como **bloques de datos**, donde cada bloque contiene matrices.\n",
        "\n",
        "Ejemplo:"
      ]
    },
    {
      "cell_type": "code",
      "execution_count": null,
      "metadata": {
        "colab": {
          "base_uri": "https://localhost:8080/"
        },
        "id": "L-vVVf852Tbe",
        "outputId": "a284d283-5a89-44f7-d7c0-467267c7996e"
      },
      "outputs": [
        {
          "output_type": "stream",
          "name": "stdout",
          "text": [
            "6\n"
          ]
        }
      ],
      "source": [
        "import numpy as np\n",
        "\n",
        "arr = np.array([\n",
        "  [[1, 2, 3], [4, 5, 6]],\n",
        "  [[7, 8, 9], [10, 11, 12]]\n",
        "])\n",
        "\n",
        "print(arr[0, 1, 2])"
      ]
    },
    {
      "cell_type": "markdown",
      "metadata": {
        "id": "8upSJNx7M9yi"
      },
      "source": [
        "### Explicación paso a paso\n",
        "\n",
        "1️⃣ `arr[0]` selecciona el **primer bloque**:\n",
        "\n",
        "```\n",
        "[[1, 2, 3],\n",
        " [4, 5, 6]]\n",
        "```\n",
        "\n",
        "2️⃣ `arr[0, 1]` selecciona la **segunda fila** dentro de ese bloque:\n",
        "\n",
        "```\n",
        "[4, 5, 6]\n",
        "```\n",
        "\n",
        "3️⃣ `arr[0, 1, 2]` selecciona el **tercer valor** de esa fila:\n",
        "\n",
        "```\n",
        "6\n",
        "```\n",
        "\n",
        "---\n",
        "\n",
        "## Indexación negativa\n",
        "\n",
        "También puedes acceder a los elementos **desde el final** del array usando índices **negativos**.\n",
        "\n",
        "* `-1` → último elemento\n",
        "* `-2` → penúltimo elemento, etc.\n",
        "\n",
        "Ejemplo:"
      ]
    },
    {
      "cell_type": "code",
      "execution_count": null,
      "metadata": {
        "id": "nHPxQbwF2Elg"
      },
      "outputs": [],
      "source": [
        "import numpy as np\n",
        "\n",
        "arr = np.array([[1, 2, 3, 4, 5],\n",
        "                [6, 7, 8, 9, 10]])\n",
        "\n",
        "print(\"Último elemento de la 2ª fila:\", arr[1, -1])"
      ]
    },
    {
      "cell_type": "markdown",
      "metadata": {
        "id": "aeMYCpoyM9yi"
      },
      "source": [
        "### Resumen rápido\n",
        "\n",
        "| Tipo de array | Ejemplo de acceso       | Devuelve                                       |\n",
        "| ------------- | ----------------------- | ---------------------------------------------- |\n",
        "| 1-D           | `arr[2]`                | 3er elemento                                   |\n",
        "| 2-D           | `arr[1, 4]`             | Elemento en fila 2 columna 5                   |\n",
        "| 3-D           | `arr[0, 1, 2]`          | Valor dentro del bloque 1 → fila 2 → columna 3 |\n",
        "| Negativo      | `arr[-1]`, `arr[1, -1]` | Último elemento                                |\n",
        "\n",
        "---\n",
        "\n",
        "## <font color=\"red\"> Actividad práctica 2</font>\n",
        "\n",
        "1. Crea el siguiente array en tu entorno:\n",
        "\n",
        "   ```python\n",
        "   import numpy as np\n",
        "   arr = np.array([[10, 20, 30, 40],\n",
        "                   [50, 60, 70, 80]])\n",
        "   ```\n",
        "2. Muestra:\n",
        "\n",
        "   * El primer elemento.\n",
        "   * El valor en la 2ª fila, 3ª columna.\n",
        "   * El último valor usando índice negativo.\n",
        "3. Crea un array 3-D sencillo y accede a un valor dentro de la segunda “capa”.\n",
        "4. Explica con tus palabras cómo cambian los índices según la dimensión.\n"
      ]
    },
    {
      "cell_type": "code",
      "execution_count": null,
      "metadata": {
        "colab": {
          "base_uri": "https://localhost:8080/"
        },
        "id": "QSaXxLGO2Eoq",
        "outputId": "240e41e2-89aa-4696-c3ca-4fe9b44de972"
      },
      "outputs": [
        {
          "output_type": "stream",
          "name": "stdout",
          "text": [
            "El primer elemento: [10 20 30 40]\n",
            "El valor en la 2ª fila, 3ª columna: 70\n",
            "El último valor usando índice negativo: 80\n",
            "Valor dentro del bloque 1: 10\n",
            "Los indices cambian según la dimensión,para escoger un unico valor dependemos de que dimensión tengamos\n",
            "Por ejemplo en una dimensión 3-D necesitamos 3 indices y en una dimensión 2-D necesitamos 2 indices\n"
          ]
        }
      ],
      "source": [
        "# Ejercicio 1\n",
        "import numpy as np\n",
        "arr = np.array([[10,20,30,40],\n",
        "                [50,60,70,80]])\n",
        "\n",
        "# Ejercicio 2\n",
        "print(\"El primer elemento:\", arr[0])\n",
        "print(\"El valor en la 2ª fila, 3ª columna:\", arr[1,2])\n",
        "print(\"El último valor usando índice negativo:\", arr[1,-1])\n",
        "\n",
        "# Ejercicio 3\n",
        "arr3d = np.array([[[1, 2, 3], [4, 5, 6]],\n",
        "                  [[7, 8, 9], [10, 11, 12]]])\n",
        "print(\"Valor dentro del bloque 1:\", arr3d[1, 1, 0])\n",
        "\n",
        "# Ejercicio 4\n",
        "print(\"Los indices cambian según la dimensión,para escoger un unico valor dependemos de que dimensión tengamos\")\n",
        "print(\"Por ejemplo en una dimensión 3-D necesitamos 3 indices y en una dimensión 2-D necesitamos 2 indices\")"
      ]
    },
    {
      "cell_type": "markdown",
      "metadata": {
        "id": "U-70fQTTM9yj"
      },
      "source": [
        "# Rebanado (Slicing) en Arrays de NumPy\n",
        "\n",
        "## ¿Qué es el *slicing*?\n",
        "\n",
        "El **slicing** (o *rebanado*) permite **extraer una parte de un array**, seleccionando un rango de índices.\n",
        "\n",
        "En lugar de acceder a un único elemento (`arr[3]`), usamos una **secuencia de índices** con esta sintaxis:\n",
        "\n",
        "```python\n",
        "[start:end]\n",
        "```\n",
        "\n",
        "También podemos indicar un **salto (step)**:\n",
        "\n",
        "```python\n",
        "[start:end:step]\n",
        "```\n",
        "\n",
        "---\n",
        "\n",
        "## Reglas básicas\n",
        "\n",
        "| Parámetro | Significado                               | Valor por defecto  |\n",
        "| --------- | ----------------------------------------- | ------------------ |\n",
        "| `start`   | Índice donde comienza el corte (incluido) | 0                  |\n",
        "| `end`     | Índice donde termina el corte (excluido)  | longitud del array |\n",
        "| `step`    | Tamaño del salto entre elementos          | 1                  |\n",
        "\n",
        "👉 El elemento del índice final (`end`) **no se incluye** en el resultado.\n",
        "\n",
        "---\n",
        "\n",
        "### Ejemplo 1 — De índice 1 a 5\n"
      ]
    },
    {
      "cell_type": "code",
      "execution_count": null,
      "metadata": {
        "colab": {
          "base_uri": "https://localhost:8080/"
        },
        "id": "d83nFs-41sFv",
        "outputId": "23895030-3349-4b12-b9a5-25be1bf37314"
      },
      "outputs": [
        {
          "output_type": "stream",
          "name": "stdout",
          "text": [
            "[2 3 4 5]\n"
          ]
        }
      ],
      "source": [
        "import numpy as np\n",
        "\n",
        "arr = np.array([1, 2, 3, 4, 5, 6, 7])\n",
        "print(arr[1:5])"
      ]
    },
    {
      "cell_type": "markdown",
      "metadata": {
        "id": "FW2vg8t6M9yj"
      },
      "source": [
        "---\n",
        "\n",
        "### Ejemplo 2 — Desde el índice 4 hasta el final"
      ]
    },
    {
      "cell_type": "code",
      "execution_count": null,
      "metadata": {
        "colab": {
          "base_uri": "https://localhost:8080/"
        },
        "id": "NZooE1hz2rp9",
        "outputId": "25f7673e-31b2-431e-cbef-1f9d8e66dd83"
      },
      "outputs": [
        {
          "output_type": "stream",
          "name": "stdout",
          "text": [
            "[5 6 7]\n"
          ]
        }
      ],
      "source": [
        "print(arr[4:])"
      ]
    },
    {
      "cell_type": "markdown",
      "metadata": {
        "id": "05uYIZD7M9yk"
      },
      "source": [
        "---\n",
        "\n",
        "### Ejemplo 3 — Desde el inicio hasta el índice 4 (no incluido)"
      ]
    },
    {
      "cell_type": "code",
      "execution_count": null,
      "metadata": {
        "colab": {
          "base_uri": "https://localhost:8080/"
        },
        "id": "w2TR_xYtM9yk",
        "outputId": "d7b9cb25-a0fb-434b-bf20-2eec9376ef85"
      },
      "outputs": [
        {
          "output_type": "stream",
          "name": "stdout",
          "text": [
            "[1 2 3 4]\n"
          ]
        }
      ],
      "source": [
        "print(arr[:4])"
      ]
    },
    {
      "cell_type": "markdown",
      "metadata": {
        "id": "Qp3ssKlEM9yk"
      },
      "source": [
        "---\n",
        "\n",
        "## Slicing negativo\n",
        "\n",
        "También puedes usar **índices negativos** para contar desde el final.\n",
        "\n",
        "Por ejemplo:\n",
        "\n",
        "* `-1` → último elemento\n",
        "* `-2` → penúltimo elemento\n",
        "\n",
        "Ejemplo:"
      ]
    },
    {
      "cell_type": "code",
      "execution_count": null,
      "metadata": {
        "id": "ONwvia0PM9yk"
      },
      "outputs": [],
      "source": [
        "import numpy as np\n",
        "\n",
        "arr = np.array([1, 2, 3, 4, 5, 6, 7])\n",
        "print(arr[-3:-1])"
      ]
    },
    {
      "cell_type": "markdown",
      "metadata": {
        "id": "pICG8v-TM9yk"
      },
      "source": [
        "Empieza desde el tercer elemento contando desde el final (`-3`)\n",
        "y termina en el índice `-1` (sin incluirlo).\n",
        "\n",
        "---\n",
        "\n",
        "## Usar pasos (*step*)\n",
        "\n",
        "El tercer parámetro permite **saltar elementos** dentro del rango.\n",
        "\n",
        "### Ejemplo 1 — Saltos de 2 posiciones entre índices 1 y 5"
      ]
    },
    {
      "cell_type": "code",
      "execution_count": null,
      "metadata": {
        "id": "6-AsbyHoM9yl"
      },
      "outputs": [],
      "source": [
        "print(arr[1:5:2])\n"
      ]
    },
    {
      "cell_type": "markdown",
      "metadata": {
        "id": "jT0C0YDeM9yl"
      },
      "source": [
        "El `::2` significa:\n",
        "\n",
        "> “Desde el principio hasta el final, tomando un elemento sí y otro no”.\n",
        "\n",
        "---\n",
        "\n",
        "## Slicing en arrays 2-D\n",
        "\n",
        "En los arrays bidimensionales, el *slicing* funciona igual, pero podemos aplicarlo **por filas y columnas**.\n",
        "\n",
        "---\n",
        "\n",
        "### Ejemplo 1 — Cortar una fila\n",
        "\n",
        "Extraer desde la segunda fila (`índice 1`), los elementos entre el índice 1 y 4 (no incluido):\n"
      ]
    },
    {
      "cell_type": "code",
      "execution_count": null,
      "metadata": {
        "colab": {
          "base_uri": "https://localhost:8080/"
        },
        "id": "59wEaQwcM9yl",
        "outputId": "0c8f289d-df78-42ff-d9f2-6afd12a501fc"
      },
      "outputs": [
        {
          "output_type": "stream",
          "name": "stdout",
          "text": [
            "[7 8 9]\n"
          ]
        }
      ],
      "source": [
        "import numpy as np\n",
        "\n",
        "arr = np.array([[1, 2, 3, 4, 5],\n",
        "                [6, 7, 8, 9, 10]])\n",
        "\n",
        "print(arr[1, 1:4])"
      ]
    },
    {
      "cell_type": "markdown",
      "metadata": {
        "id": "0IY3qzVqM9yl"
      },
      "source": [
        "---\n",
        "\n",
        "### Ejemplo 2 — Obtener una sola columna de varias filas"
      ]
    },
    {
      "cell_type": "code",
      "execution_count": null,
      "metadata": {
        "colab": {
          "base_uri": "https://localhost:8080/"
        },
        "id": "Xwg7UgMTM9ym",
        "outputId": "7b97e6b5-9a0f-4190-e17c-115447027071"
      },
      "outputs": [
        {
          "output_type": "stream",
          "name": "stdout",
          "text": [
            "[3 8]\n"
          ]
        }
      ],
      "source": [
        "print(arr[0:2, 2])\n"
      ]
    },
    {
      "cell_type": "markdown",
      "metadata": {
        "id": "1d1tA_7tM9ym"
      },
      "source": [
        "Aquí `arr[0:2, 2]` significa:\n",
        "\n",
        "> “De las filas 0 a 1, selecciona la columna 2”.\n",
        "\n",
        "---\n",
        "\n",
        "### Ejemplo 3 — Seleccionar submatriz (rango en filas y columnas)\n"
      ]
    },
    {
      "cell_type": "code",
      "execution_count": null,
      "metadata": {
        "colab": {
          "base_uri": "https://localhost:8080/"
        },
        "id": "lj1PntQVM9ym",
        "outputId": "806f5cbd-ceea-4eb2-c46c-2b5a6fbc0267"
      },
      "outputs": [
        {
          "output_type": "stream",
          "name": "stdout",
          "text": [
            "[[2 3 4]\n",
            " [7 8 9]]\n"
          ]
        }
      ],
      "source": [
        "print(arr[0:2, 1:4])\n"
      ]
    },
    {
      "cell_type": "markdown",
      "metadata": {
        "id": "scAozj4-M9ym"
      },
      "source": [
        "Esto devuelve un **array 2-D**, formado por el bloque de datos de esas posiciones.\n",
        "\n",
        "---\n",
        "\n",
        "###  Resumen visual\n",
        "\n",
        "| Ejemplo         | Resultado     | Descripción                 |\n",
        "| --------------- | ------------- | --------------------------- |\n",
        "| `arr[1:5]`      | `[2 3 4 5]`   | Del índice 1 al 4           |\n",
        "| `arr[:3]`       | `[1 2 3]`     | Desde el inicio hasta el 3º |\n",
        "| `arr[::2]`      | `[1 3 5 7]`   | Cada dos elementos          |\n",
        "| `arr[-3:-1]`    | `[5 6]`       | Desde el final              |\n",
        "| `arr[1, 1:4]`   | `[7 8 9]`     | Slicing en fila             |\n",
        "| `arr[0:2, 1:4]` | Submatriz 2x3 | Fila y columna a la vez     |\n",
        "\n",
        "---\n",
        "\n",
        "## <font color=\"red\"> Actividad práctica 3</font>\n",
        "\n",
        "1. Crea el array:\n",
        "\n",
        "   ```python\n",
        "   import numpy as np\n",
        "   arr = np.array([10, 20, 30, 40, 50, 60, 70])\n",
        "   ```\n",
        "\n",
        "   y muestra:\n",
        "\n",
        "   * Los elementos del índice 2 al 5.\n",
        "   * Los elementos desde el principio hasta el índice 4.\n",
        "   * Los elementos en posiciones pares ``[10 30 50 70]``.\n",
        "\n",
        "2. Crea una matriz:\n",
        "\n",
        "   ```python\n",
        "   m = np.array([[11, 12, 13, 14],\n",
        "                 [21, 22, 23, 24],\n",
        "                 [31, 32, 33, 34]])\n",
        "   ```\n",
        "\n",
        "   y muestra:\n",
        "\n",
        "   * La segunda fila ``[21 22 23 24]``.\n",
        "   * La segunda columna ``[12 22 32]``.\n",
        "   * El bloque central\n",
        "     ````\n",
        "       [[12 13]     \n",
        "       [22 23]]\n",
        "    ````\n",
        "\n",
        "3. Explica con tus palabras qué diferencia hay entre **indexar** y **rebanar** un array."
      ]
    },
    {
      "cell_type": "code",
      "execution_count": null,
      "metadata": {
        "colab": {
          "base_uri": "https://localhost:8080/"
        },
        "id": "SM78hp1BM9ym",
        "outputId": "8eefd5c1-f80d-430e-e514-a2a847091476"
      },
      "outputs": [
        {
          "output_type": "stream",
          "name": "stdout",
          "text": [
            "Los elementos del índice 2 al 5: [30 40 50 60]\n",
            "Los elementos desde el principio hasta el índice 4: [10 20 30 40 50]\n",
            "Los elementos en posiciones pares: [10 30 50 70]\n",
            "La segunda fila: [21 22 23 24]\n",
            "La segunda columna: [12 22 32]\n",
            "El bloque central: [[12 13]\n",
            " [22 23]]\n",
            "Indexar: extraes un único valor\n",
            "Rebanar: extraes un rango de valores\n"
          ]
        }
      ],
      "source": [
        "# Ejercicio 1\n",
        "import numpy as np\n",
        "arr = np.array([10, 20, 30, 40, 50, 60, 70])\n",
        "\n",
        "print(\"Los elementos del índice 2 al 5:\", arr[2:6])\n",
        "print(\"Los elementos desde el principio hasta el índice 4:\", arr[:5])\n",
        "print(\"Los elementos en posiciones pares:\", arr[0:7:2]) # arr[::2]\n",
        "\n",
        "# Ejercicio 2\n",
        "m = np.array([[11, 12, 13, 14],\n",
        "              [21, 22, 23, 24],\n",
        "              [31, 32, 33, 34]])\n",
        "\n",
        "print(\"La segunda fila:\", m[1])\n",
        "print(\"La segunda columna:\", m[:,1])\n",
        "print(\"El bloque central:\",m[0:2,1:3] )\n",
        "\n",
        "# Ejercicio 3\n",
        "print(\"Indexar: extraes un único valor\")\n",
        "print(\"Rebanar: extraes un rango de valores\")"
      ]
    },
    {
      "cell_type": "markdown",
      "metadata": {
        "id": "NwZ52VWPM9ym"
      },
      "source": [
        "# Tipos de datos en NumPy\n",
        "\n",
        "## Tipos de datos básicos en Python\n",
        "\n",
        "Antes de ver NumPy, recordemos los tipos de datos que ya existen en **Python**:\n",
        "\n",
        "| Tipo               | Descripción                    | Ejemplo              |\n",
        "| ------------------ | ------------------------------ | -------------------- |\n",
        "| **string (str)**   | Texto entre comillas           | `\"Hola\"`, `'Python'` |\n",
        "| **integer (int)**  | Números enteros                | `-3`, `0`, `25`      |\n",
        "| **float**          | Números reales (con decimales) | `3.14`, `42.0`       |\n",
        "| **boolean (bool)** | Verdadero o falso              | `True`, `False`      |\n",
        "| **complex**        | Números complejos              | `1 + 2j`, `3.5 + 4j` |\n",
        "\n",
        "---\n",
        "\n",
        "## Tipos de datos en NumPy\n",
        "\n",
        "NumPy amplía estos tipos con otros más específicos y optimizados para cálculos numéricos.\n",
        "Cada tipo se identifica con **un carácter** que representa su categoría.\n",
        "\n",
        "| Código | Tipo de dato                             | Ejemplo                        |\n",
        "| ------ | ---------------------------------------- | ------------------------------ |\n",
        "| `i`    | Entero con signo                         | `-10`, `25`                    |\n",
        "| `u`    | Entero sin signo (no puede ser negativo) | `0`, `255`                     |\n",
        "| `f`    | Número real (float)                      | `3.1416`                       |\n",
        "| `c`    | Número complejo                          | `2+3j`                         |\n",
        "| `b`    | Booleano                                 | `True`, `False`                |\n",
        "| `S`    | Cadena de texto (bytes)                  | `b\"hola\"`                      |\n",
        "| `U`    | Cadena Unicode                           | `\"hola\"`                       |\n",
        "| `m`    | Diferencia de tiempo (*timedelta*)       | `1 día`                        |\n",
        "| `M`    | Fecha y hora (*datetime*)                | `2025-10-06`                   |\n",
        "| `O`    | Objeto Python                            | cualquier tipo                 |\n",
        "| `V`    | Bloque fijo de memoria (*void*)          | reservado para usos especiales |\n",
        "\n",
        "---\n",
        "\n",
        "### Comprobar el tipo de datos de un array\n",
        "\n",
        "Cada array NumPy tiene una propiedad llamada `.dtype` que indica el tipo de datos de sus elementos.\n",
        "\n",
        "Ejemplo:"
      ]
    },
    {
      "cell_type": "code",
      "execution_count": null,
      "metadata": {
        "colab": {
          "base_uri": "https://localhost:8080/"
        },
        "id": "IlTZsa5mM9yn",
        "outputId": "f449ec17-8c58-4229-d0f1-efe6448d9df0"
      },
      "outputs": [
        {
          "output_type": "stream",
          "name": "stdout",
          "text": [
            "int64\n"
          ]
        }
      ],
      "source": [
        "import numpy as np\n",
        "\n",
        "arr = np.array([1, 2, 3, 4])\n",
        "print(arr.dtype)"
      ]
    },
    {
      "cell_type": "markdown",
      "metadata": {
        "id": "dCTev16QM9yn"
      },
      "source": [
        "---\n",
        "\n",
        "Ejemplo con cadenas:"
      ]
    },
    {
      "cell_type": "code",
      "execution_count": null,
      "metadata": {
        "colab": {
          "base_uri": "https://localhost:8080/"
        },
        "id": "S3H436FZM9yn",
        "outputId": "99910130-a236-48a7-e0e2-5561aaeaa3a0"
      },
      "outputs": [
        {
          "output_type": "stream",
          "name": "stdout",
          "text": [
            "<U6\n"
          ]
        }
      ],
      "source": [
        "arr = np.array(['apple', 'banana', 'cherry'])\n",
        "print(arr.dtype)"
      ]
    },
    {
      "cell_type": "markdown",
      "metadata": {
        "id": "rQzxAB5JM9yn"
      },
      "source": [
        "Significa “Unicode string” de longitud máxima 6.\n",
        "\n",
        "---\n",
        "\n",
        "## Crear arrays con un tipo de dato definido\n",
        "\n",
        "Podemos indicar el tipo de datos al crear el array usando el argumento **`dtype`**.\n",
        "\n",
        "### Ejemplo 1 — Array de cadenas"
      ]
    },
    {
      "cell_type": "code",
      "execution_count": null,
      "metadata": {
        "colab": {
          "base_uri": "https://localhost:8080/"
        },
        "id": "uS9iiGkcM9yo",
        "outputId": "d9715cd3-5d61-40d5-feec-59bb296c2292"
      },
      "outputs": [
        {
          "output_type": "stream",
          "name": "stdout",
          "text": [
            "[b'1' b'2' b'3' b'4']\n",
            "|S1\n"
          ]
        }
      ],
      "source": [
        "import numpy as np\n",
        "\n",
        "arr = np.array([1, 2, 3, 4], dtype='S')\n",
        "print(arr)\n",
        "print(arr.dtype)"
      ]
    },
    {
      "cell_type": "markdown",
      "metadata": {
        "id": "JdwsruV-M9yo"
      },
      "source": [
        "Los valores se han convertido en **bytes** (`b'...'`).\n",
        "\n",
        "---\n",
        "\n",
        "### Ejemplo 2 — Array de enteros de 4 bytes"
      ]
    },
    {
      "cell_type": "code",
      "execution_count": null,
      "metadata": {
        "colab": {
          "base_uri": "https://localhost:8080/"
        },
        "id": "WK4zSd1CM9yo",
        "outputId": "55b55bfd-83c4-44f1-e764-6b3af351a238"
      },
      "outputs": [
        {
          "output_type": "stream",
          "name": "stdout",
          "text": [
            "[1 2 3 4]\n",
            "int32\n"
          ]
        }
      ],
      "source": [
        "arr = np.array([1, 2, 3, 4], dtype='i4')\n",
        "print(arr)\n",
        "print(arr.dtype)"
      ]
    },
    {
      "cell_type": "markdown",
      "metadata": {
        "id": "XaM7DTfTM9yo"
      },
      "source": [
        "En este caso, `'i4'` significa:\n",
        "\n",
        "* `i` → entero con signo\n",
        "* `4` → ocupa 4 bytes (32 bits)\n",
        "\n",
        "---\n",
        "\n",
        "###  Si un valor no puede convertirse\n",
        "\n",
        "NumPy mostrará un **ValueError** si el tipo de datos no es compatible.\n",
        "\n",
        "Ejemplo:"
      ]
    },
    {
      "cell_type": "code",
      "execution_count": null,
      "metadata": {
        "colab": {
          "base_uri": "https://localhost:8080/",
          "height": 150
        },
        "id": "yHnaEhBcM9yo",
        "outputId": "a549db24-877f-407a-f774-a9e5405de38f"
      },
      "outputs": [
        {
          "output_type": "error",
          "ename": "ValueError",
          "evalue": "invalid literal for int() with base 10: 'a'",
          "traceback": [
            "\u001b[0;31m---------------------------------------------------------------------------\u001b[0m",
            "\u001b[0;31mValueError\u001b[0m                                Traceback (most recent call last)",
            "\u001b[0;32m/tmp/ipython-input-614436037.py\u001b[0m in \u001b[0;36m<cell line: 0>\u001b[0;34m()\u001b[0m\n\u001b[0;32m----> 1\u001b[0;31m \u001b[0marr\u001b[0m \u001b[0;34m=\u001b[0m \u001b[0mnp\u001b[0m\u001b[0;34m.\u001b[0m\u001b[0marray\u001b[0m\u001b[0;34m(\u001b[0m\u001b[0;34m[\u001b[0m\u001b[0;34m'a'\u001b[0m\u001b[0;34m,\u001b[0m \u001b[0;34m'2'\u001b[0m\u001b[0;34m,\u001b[0m \u001b[0;34m'3'\u001b[0m\u001b[0;34m]\u001b[0m\u001b[0;34m,\u001b[0m \u001b[0mdtype\u001b[0m\u001b[0;34m=\u001b[0m\u001b[0;34m'i'\u001b[0m\u001b[0;34m)\u001b[0m\u001b[0;34m\u001b[0m\u001b[0;34m\u001b[0m\u001b[0m\n\u001b[0m",
            "\u001b[0;31mValueError\u001b[0m: invalid literal for int() with base 10: 'a'"
          ]
        }
      ],
      "source": [
        "arr = np.array(['a', '2', '3'], dtype='i')\n"
      ]
    },
    {
      "cell_type": "markdown",
      "metadata": {
        "id": "5jFD81AuM9yo"
      },
      "source": [
        "Esto ocurre porque `'a'` no puede convertirse a número entero.\n",
        "\n",
        "---\n",
        "\n",
        "## Convertir el tipo de datos de un array existente\n",
        "\n",
        "Para cambiar el tipo de un array ya creado, se usa el método **`.astype()`**.\n",
        "\n",
        "Este método **crea una copia** del array con el nuevo tipo de datos.\n",
        "\n",
        "---\n",
        "\n",
        "### Ejemplo 1 — De float a int"
      ]
    },
    {
      "cell_type": "code",
      "execution_count": null,
      "metadata": {
        "colab": {
          "base_uri": "https://localhost:8080/"
        },
        "id": "MtdJ8p2aM9yp",
        "outputId": "8df06b06-4897-4154-a8fe-0ed97823eae3"
      },
      "outputs": [
        {
          "output_type": "stream",
          "name": "stdout",
          "text": [
            "[1 2 3]\n",
            "int32\n"
          ]
        }
      ],
      "source": [
        "import numpy as np\n",
        "\n",
        "arr = np.array([1.1, 2.1, 3.1])\n",
        "newarr = arr.astype('i')\n",
        "\n",
        "print(newarr)\n",
        "print(newarr.dtype)"
      ]
    },
    {
      "cell_type": "markdown",
      "metadata": {
        "id": "k_zm5yiFM9yp"
      },
      "source": [
        "---\n",
        "\n",
        "### Ejemplo 2 — Usando el tipo directamente (`int`)\n"
      ]
    },
    {
      "cell_type": "code",
      "execution_count": null,
      "metadata": {
        "colab": {
          "base_uri": "https://localhost:8080/"
        },
        "id": "TsiOzyngM9yp",
        "outputId": "4f8d9e8e-837b-4f9e-fbc0-6792cd770c63"
      },
      "outputs": [
        {
          "output_type": "stream",
          "name": "stdout",
          "text": [
            "[1 2 3]\n",
            "int64\n"
          ]
        }
      ],
      "source": [
        "newarr = arr.astype(int)\n",
        "print(newarr)\n",
        "print(newarr.dtype)"
      ]
    },
    {
      "cell_type": "markdown",
      "metadata": {
        "id": "h8rA0Oz-M9yp"
      },
      "source": [
        "---\n",
        "\n",
        "### Ejemplo 3 — De entero a booleano"
      ]
    },
    {
      "cell_type": "code",
      "execution_count": null,
      "metadata": {
        "colab": {
          "base_uri": "https://localhost:8080/"
        },
        "id": "IH7uB3YpM9yp",
        "outputId": "f1fd26f7-8a72-4395-bb78-a3add064feb7"
      },
      "outputs": [
        {
          "output_type": "stream",
          "name": "stdout",
          "text": [
            "[ True False  True]\n",
            "bool\n"
          ]
        }
      ],
      "source": [
        "arr = np.array([1, 0, 3])\n",
        "newarr = arr.astype(bool)\n",
        "\n",
        "print(newarr)\n",
        "print(newarr.dtype)"
      ]
    },
    {
      "cell_type": "markdown",
      "metadata": {
        "id": "FyLA73Y9M9yq"
      },
      "source": [
        "En este caso, `0` → `False` y cualquier otro número → `True`.\n",
        "\n",
        "---\n",
        "\n",
        "###  Resumen visual\n",
        "\n",
        "| Operación            | Ejemplo                        | Resultado           | Tipo (`dtype`) |     |\n",
        "| -------------------- | ------------------------------ | ------------------- | -------------- | --- |\n",
        "| Tipo automático      | `np.array([1,2,3])`            | `[1 2 3]`           | `int64`        |     |\n",
        "| Forzar tipo texto    | `np.array([1,2,3], dtype='S')` | `[b'1' b'2' b'3']`  | `              | S1` |\n",
        "| Enteros de 4 bytes   | `dtype='i4'`                   | `[1 2 3 4]`         | `int32`        |     |\n",
        "| Cambiar tipo         | `.astype('f')`                 | `[1. 2. 3.]`        | `float32`      |     |\n",
        "| De entero a booleano | `.astype(bool)`                | `[True False True]` | `bool`         |     |\n",
        "\n",
        "---\n",
        "\n",
        "## <font color=\"red\"> Actividad práctica 4</font>\n",
        "\n",
        "1. Crea un array con los valores `[10.5, 20.1, 30.9]` y muéstralo con su tipo de datos.\n",
        "2. Convierte ese array a **entero** con `.astype(int)` y observa los resultados.\n",
        "3. Crea un array de tipo **cadena (`dtype='U'`)** con los valores `['rojo', 'verde', 'azul']` y muestra su tipo.\n",
        "4. Crea un array con `[1, 0, 5, 0, 3]` y conviértelo a **booleano**.\n",
        "5. Explica con tus palabras por qué es importante definir correctamente el tipo de datos en cálculos de IA o Big Data."
      ]
    },
    {
      "cell_type": "code",
      "execution_count": null,
      "metadata": {
        "colab": {
          "base_uri": "https://localhost:8080/"
        },
        "id": "XXRn3tQeM9yq",
        "outputId": "8e9f3a06-4383-4a42-ed38-aaf9066b1159"
      },
      "outputs": [
        {
          "output_type": "stream",
          "name": "stdout",
          "text": [
            "Tipo de dato 1: float64\n",
            "Resultado 2: [10 20 30]\n",
            "Tipo de dato 2: int64\n",
            "Tipo de dato 3: <U5\n",
            "Resultado 4: [ True False  True False  True]\n",
            "Es importante definir correctamente el tipo de datos para evitar problemas y errores de cálculo\n"
          ]
        }
      ],
      "source": [
        "# Ejercicio 1\n",
        "import numpy as np\n",
        "arr = np.array([10.5, 20.1, 30.9])\n",
        "print(\"Tipo de dato 1:\", arr.dtype)\n",
        "\n",
        "# Ejercicio 2\n",
        "newarr = arr.astype(int)\n",
        "print(\"Resultado 2:\", newarr)\n",
        "print(\"Tipo de dato 2:\", newarr.dtype)\n",
        "\n",
        "# Ejercicio 3\n",
        "arr1 = np.array([\"rojo\", \"verde\", \"azul\"], dtype=\"U\")\n",
        "print(\"Tipo de dato 3:\", arr1.dtype)\n",
        "\n",
        "# Ejercicio 4\n",
        "arr2 = np.array([1, 0, 5, 0, 3])\n",
        "print(\"Resultado 4:\",arr2.astype(bool))\n",
        "\n",
        "# Ejercicio 5\n",
        "print(\"Es importante definir correctamente el tipo de datos para evitar problemas y errores de cálculo\")"
      ]
    },
    {
      "cell_type": "markdown",
      "metadata": {
        "id": "XJ4Kn9foM9yq"
      },
      "source": [
        "# Copias y Vistas en NumPy\n",
        "\n",
        "## Diferencia entre **copy()** y **view()**\n",
        "\n",
        "Cuando trabajamos con arrays en NumPy, es importante saber si los datos se **copian** o solo se **comparten** entre variables.\n",
        "\n",
        "| Tipo                 | Qué hace                                                 | Cambios afectan al original |\n",
        "| -------------------- | -------------------------------------------------------- | --------------------------- |\n",
        "| **Copy** (`.copy()`) | Crea un **nuevo array independiente**.                   | ❌ No                        |\n",
        "| **View** (`.view()`) | Crea una **vista** del mismo array (comparte los datos). | ✅ Sí                        |\n",
        "\n",
        "En resumen:\n",
        "\n",
        "* Una **copia** tiene sus propios datos.\n",
        "* Una **vista** solo muestra los datos del original.\n",
        "\n",
        "---\n",
        "\n",
        "### Ejemplo 1 — Copy (copia independiente)"
      ]
    },
    {
      "cell_type": "code",
      "execution_count": null,
      "metadata": {
        "colab": {
          "base_uri": "https://localhost:8080/"
        },
        "id": "-ighlTKVM9yq",
        "outputId": "927455af-c04d-4279-e1a6-cce69e5abae4"
      },
      "outputs": [
        {
          "output_type": "stream",
          "name": "stdout",
          "text": [
            "Array original: [42  2  3  4  5]\n",
            "Copia: [1 2 3 4 5]\n"
          ]
        }
      ],
      "source": [
        "import numpy as np\n",
        "\n",
        "arr = np.array([1, 2, 3, 4, 5])\n",
        "x = arr.copy()       # Creamos una copia\n",
        "\n",
        "arr[0] = 42          # Cambiamos el original\n",
        "\n",
        "print(\"Array original:\", arr)\n",
        "print(\"Copia:\", x)"
      ]
    },
    {
      "cell_type": "markdown",
      "metadata": {
        "id": "aHJ8k8WHM9yq"
      },
      "source": [
        "Observa que el cambio en `arr` **no afecta** a `x`.\n",
        "\n",
        "---\n",
        "\n",
        "## Ejemplo 2 — View (vista compartida)"
      ]
    },
    {
      "cell_type": "code",
      "execution_count": null,
      "metadata": {
        "colab": {
          "base_uri": "https://localhost:8080/"
        },
        "id": "fuJPyHV2M9yr",
        "outputId": "e797b028-d062-4853-9bf1-a0e8d389cdb9"
      },
      "outputs": [
        {
          "output_type": "stream",
          "name": "stdout",
          "text": [
            "Array original: [42  2  3  4  5]\n",
            "Vista: [42  2  3  4  5]\n"
          ]
        }
      ],
      "source": [
        "import numpy as np\n",
        "\n",
        "arr = np.array([1, 2, 3, 4, 5])\n",
        "x = arr.view()       # Creamos una vista\n",
        "\n",
        "arr[0] = 42          # Cambiamos el original\n",
        "\n",
        "print(\"Array original:\", arr)\n",
        "print(\"Vista:\", x)"
      ]
    },
    {
      "cell_type": "markdown",
      "metadata": {
        "id": "QKANAETZM9yr"
      },
      "source": [
        "En este caso, la **vista refleja los cambios** hechos en el original.\n",
        "\n",
        "---\n",
        "\n",
        "## Ejemplo 3 — Cambiar la vista también cambia el original"
      ]
    },
    {
      "cell_type": "code",
      "execution_count": null,
      "metadata": {
        "colab": {
          "base_uri": "https://localhost:8080/"
        },
        "id": "1gao4OMIM9yr",
        "outputId": "17aa6aa3-724a-4fa1-dbfe-75ad963eaf0a"
      },
      "outputs": [
        {
          "output_type": "stream",
          "name": "stdout",
          "text": [
            "Array original: [31  2  3  4  5]\n",
            "Vista: [31  2  3  4  5]\n"
          ]
        }
      ],
      "source": [
        "import numpy as np\n",
        "\n",
        "arr = np.array([1, 2, 3, 4, 5])\n",
        "x = arr.view()\n",
        "\n",
        "x[0] = 31            # Cambiamos la vista\n",
        "\n",
        "print(\"Array original:\", arr)\n",
        "print(\"Vista:\", x)"
      ]
    },
    {
      "cell_type": "markdown",
      "metadata": {
        "id": "vpRMj3N0M9yr"
      },
      "source": [
        "Como `x` es una vista, ambos comparten el mismo espacio de memoria.\n",
        "\n",
        "---\n",
        "\n",
        "## Verificar si un array **posee sus propios datos**\n",
        "\n",
        "Cada array NumPy tiene un atributo especial llamado **`.base`**.\n",
        "\n",
        "* Si `.base` devuelve `None`, el array **posee sus propios datos** (es una copia).\n",
        "* Si `.base` devuelve otro array, significa que **es una vista** de ese array original.\n",
        "\n",
        "Ejemplo:"
      ]
    },
    {
      "cell_type": "code",
      "execution_count": null,
      "metadata": {
        "colab": {
          "base_uri": "https://localhost:8080/"
        },
        "id": "S8t1-MniM9yr",
        "outputId": "e6d117eb-08b7-4ac6-a3f0-67f50c0dbd8f"
      },
      "outputs": [
        {
          "output_type": "stream",
          "name": "stdout",
          "text": [
            "Base de x: None\n",
            "Base de y: [1 2 3 4 5]\n"
          ]
        }
      ],
      "source": [
        "import numpy as np\n",
        "\n",
        "arr = np.array([1, 2, 3, 4, 5])\n",
        "\n",
        "x = arr.copy()\n",
        "y = arr.view()\n",
        "\n",
        "print(\"Base de x:\", x.base)\n",
        "print(\"Base de y:\", y.base)"
      ]
    },
    {
      "cell_type": "markdown",
      "metadata": {
        "id": "VRQExFoDM9ys"
      },
      "source": [
        "Esto indica que:\n",
        "\n",
        "* `x` (copy) **no depende de nadie**.\n",
        "* `y` (view) **depende de `arr`**, ya que comparte sus datos.\n",
        "\n",
        "---\n",
        "\n",
        "###  Resumen visual\n",
        "\n",
        "| Método    | Independiente del original | Cambios compartidos | `.base`                | Uso típico                                   |\n",
        "| --------- | -------------------------- | ------------------- | ---------------------- | -------------------------------------------- |\n",
        "| `.copy()` | ✅ Sí                       | ❌ No                | `None`                 | Cuando quieres trabajar con una copia segura |\n",
        "| `.view()` | ❌ No                       | ✅ Sí                | referencia al original | Cuando solo necesitas leer o ver los datos   |\n",
        "\n",
        "---\n",
        "\n",
        "## <font color=\"red\"> Actividad práctica 5</font>\n",
        "\n",
        "1. Crea el array:\n",
        "\n",
        "   ```python\n",
        "   arr = np.array([10, 20, 30, 40])\n",
        "   ```\n",
        "\n",
        "   * Haz una **copia** y una **vista**.\n",
        "   * Modifica el primer elemento de `arr`.\n",
        "   * Observa qué cambia en cada uno.\n",
        "\n",
        "2. Usa `.base` para comprobar cuál de los dos (`copy` o `view`) posee sus datos.\n",
        "\n",
        "3. Cambia un valor dentro de la **vista** y comprueba si el cambio afecta al original.\n",
        "\n",
        "4. Reflexiona 💬\n",
        "   ¿Por qué crees que NumPy ofrece las “vistas”?\n",
        "   *(Pista: piensa en la eficiencia y en trabajar con arrays muy grandes).*"
      ]
    },
    {
      "cell_type": "code",
      "execution_count": null,
      "metadata": {
        "id": "4ulVYa39M9ys",
        "colab": {
          "base_uri": "https://localhost:8080/"
        },
        "outputId": "d85ad0aa-6f36-42b0-b187-72188216449d"
      },
      "outputs": [
        {
          "output_type": "stream",
          "name": "stdout",
          "text": [
            "Copia: [10 20 30 40]\n",
            "Vista [ 3 20 30 40]\n",
            "Base de copia: None\n",
            "Base de vista: [ 3 20 30 40]\n",
            "Vista: [ 3  9 30 40]\n",
            "Original: [ 3  9 30 40]\n",
            "Numpy ofrece las vistas para poder tener arrays compartidos\n"
          ]
        }
      ],
      "source": [
        "# Ejercicio 1\n",
        "import numpy as np\n",
        "arr=np.array([10, 20, 30, 40])\n",
        "\n",
        "copia = arr.copy()\n",
        "vista= arr.view()\n",
        "\n",
        "arr[0]=3\n",
        "\n",
        "print(\"Copia:\", copia)\n",
        "print(\"Vista\", vista)\n",
        "\n",
        "# Ejercicio 2\n",
        "print(\"Base de copia:\", copia.base)\n",
        "print(\"Base de vista:\", vista.base)\n",
        "\n",
        "# Ejercicio 3\n",
        "vista[1]=9\n",
        "\n",
        "print(\"Vista:\",vista)\n",
        "print(\"Original:\", arr)\n",
        "\n",
        "# Ejercicio 4\n",
        "print(\"Numpy ofrece las vistas para poder tener arrays compartidos\")"
      ]
    },
    {
      "cell_type": "markdown",
      "metadata": {
        "id": "8Us-onmZM9ys"
      },
      "source": [
        "# Forma de un Array en NumPy\n",
        "\n",
        "## (*Array Shape*)\n",
        "\n",
        "---\n",
        "\n",
        "## ¿Qué significa la “forma” de un array?\n",
        "\n",
        "La **forma** (*shape*) de un array indica **cuántos elementos hay en cada dimensión**.\n",
        "Se expresa mediante una **tupla** de números, uno por cada dimensión del array.\n",
        "\n",
        "Por ejemplo:\n",
        "\n",
        "* Un vector (1-D) tiene solo una dimensión: su longitud.\n",
        "* Una matriz (2-D) tiene dos dimensiones: **número de filas** y **número de columnas**.\n",
        "* Un tensor (3-D o más) tiene más dimensiones anidadas.\n",
        "\n",
        "---\n",
        "\n",
        "##  Obtener la forma de un array\n",
        "\n",
        "NumPy ofrece el atributo `.shape`, que devuelve una **tupla** con el número de elementos en cada dimensión.\n",
        "\n",
        "Ejemplo:"
      ]
    },
    {
      "cell_type": "code",
      "execution_count": null,
      "metadata": {
        "id": "UHE8PNxvM9ys",
        "colab": {
          "base_uri": "https://localhost:8080/"
        },
        "outputId": "b5015166-fae5-48fa-c7a3-e6a9fb877124"
      },
      "outputs": [
        {
          "output_type": "stream",
          "name": "stdout",
          "text": [
            "(2, 4)\n"
          ]
        }
      ],
      "source": [
        "import numpy as np\n",
        "\n",
        "arr = np.array([[1, 2, 3, 4],\n",
        "                [5, 6, 7, 8]])\n",
        "\n",
        "print(arr.shape)"
      ]
    },
    {
      "cell_type": "markdown",
      "metadata": {
        "id": "OpTQ7YiFM9ys"
      },
      "source": [
        "Esto significa que:\n",
        "\n",
        "* La **primera dimensión** (filas) tiene 2 elementos.\n",
        "* La **segunda dimensión** (columnas) tiene 4 elementos.\n",
        "\n",
        "Por tanto, el array tiene forma **2x4**.\n",
        "\n",
        "---\n",
        "\n",
        "### 🔹 Ejemplo visual\n",
        "\n",
        "| Fila | Elementos  |\n",
        "| ---- | ---------- |\n",
        "| 0    | 1  2  3  4 |\n",
        "| 1    | 5  6  7  8 |\n",
        "\n",
        "Forma: `(2, 4)`\n",
        "→ 2 filas × 4 columnas\n",
        "\n",
        "---\n",
        "\n",
        "### Crear arrays con varias dimensiones\n",
        "\n",
        "Podemos usar el argumento `ndmin` al crear el array para **forzar** un número mínimo de dimensiones.\n",
        "\n",
        "Ejemplo:\n"
      ]
    },
    {
      "cell_type": "code",
      "execution_count": null,
      "metadata": {
        "id": "VO_lgXAZM9ys",
        "colab": {
          "base_uri": "https://localhost:8080/"
        },
        "outputId": "80a829fb-c7f9-4579-bfc1-f7b65ca0efa5"
      },
      "outputs": [
        {
          "output_type": "stream",
          "name": "stdout",
          "text": [
            "[[[[[1 2 3 4]]]]]\n",
            "Forma del array: (1, 1, 1, 1, 4)\n"
          ]
        }
      ],
      "source": [
        "import numpy as np\n",
        "\n",
        "arr = np.array([1, 2, 3, 4], ndmin=5)\n",
        "\n",
        "print(arr)\n",
        "print(\"Forma del array:\", arr.shape)"
      ]
    },
    {
      "cell_type": "markdown",
      "metadata": {
        "id": "96JNWEGqM9yt"
      },
      "source": [
        "En este caso:\n",
        "\n",
        "* El array tiene **5 dimensiones**.\n",
        "* La última (5ª) dimensión contiene **4 elementos**.\n",
        "\n",
        "---\n",
        "\n",
        "###  Interpretación de `.shape`\n",
        "\n",
        "Cada número dentro de la tupla indica **cuántos elementos tiene esa dimensión**.\n",
        "\n",
        "Ejemplo:\n",
        "\n",
        "| Dimensión | Valor en `shape` | Significado                            |\n",
        "| --------- | ---------------- | -------------------------------------- |\n",
        "| 1ª        | `1`              | Hay 1 bloque superior                  |\n",
        "| 2ª        | `1`              | Dentro de ese bloque, hay 1 sub-bloque |\n",
        "| 3ª        | `1`              | Dentro de ese sub-bloque, hay 1 matriz |\n",
        "| 4ª        | `1`              | Dentro de la matriz, hay 1 fila        |\n",
        "| 5ª        | `4`              | Y en esa fila hay 4 valores            |\n",
        "\n",
        "Así, la **tupla `(1, 1, 1, 1, 4)`** nos dice que el array tiene 5 niveles de profundidad.\n",
        "\n",
        "---\n",
        "\n",
        "###  Resumen visual\n",
        "\n",
        "| Tipo de array | Ejemplo                          | Forma (`.shape`)  |\n",
        "| ------------- | -------------------------------- | ----------------- |\n",
        "| 1-D (vector)  | `[1, 2, 3, 4]`                   | `(4,)`            |\n",
        "| 2-D (matriz)  | `[[1,2,3],[4,5,6]]`              | `(2, 3)`          |\n",
        "| 3-D (tensor)  | `[[[1,2],[3,4]], [[5,6],[7,8]]]` | `(2, 2, 2)`       |\n",
        "| 5-D           | `np.array([1,2,3,4], ndmin=5)`   | `(1, 1, 1, 1, 4)` |\n",
        "\n",
        "---\n",
        "\n",
        "## <font color=\"red\"> Actividad práctica 6</font>\n",
        "\n",
        "1. Crea los siguientes arrays y muestra su `.shape`:\n",
        "\n",
        "   ```python\n",
        "   import numpy as np\n",
        "\n",
        "   a = np.array([10, 20, 30])\n",
        "   b = np.array([[1, 2, 3], [4, 5, 6]])\n",
        "   c = np.array([[[1, 2], [3, 4]], [[5, 6], [7, 8]]])\n",
        "   ```\n",
        "\n",
        "2. Explica qué significa cada número en la tupla `shape` de `a`, `b` y `c`.\n",
        "\n",
        "3. Crea un array con `ndmin=4` y analiza su estructura.\n",
        "\n",
        "4. Reflexiona\n",
        "\n",
        "   ¿Por qué crees que conocer la forma de un array es importante cuando trabajamos con **modelos de IA o redes neuronales**?\n"
      ]
    },
    {
      "cell_type": "code",
      "execution_count": null,
      "metadata": {
        "id": "QeSx7AB4M9yt",
        "colab": {
          "base_uri": "https://localhost:8080/"
        },
        "outputId": "d5bd2ff1-44ee-40fa-c724-565f0715b91e"
      },
      "outputs": [
        {
          "output_type": "stream",
          "name": "stdout",
          "text": [
            "Forma del array a: (3,)\n",
            "Forma del array b: (2, 3)\n",
            "Forma del array c: (2, 2, 2)\n",
            "La primera dimensión tiene 3 elementos(filas)\n",
            "La primera dimensión tiene 2 elementos(filas), la segunda dimensión tiene 3 elementos(columnas)\n",
            "La primera dimensión tiene 2 elementos(filas, la segunda dimensión tiene 2 elementos(columnas) y la tercera dimensión tiene 2 elementos\n",
            "[[[[1 2 3 4]]]]\n",
            "Forma del array: (1, 1, 1, 4)\n",
            "El array tiene 4 niveles de profundidad\n",
            "Para saber cuantas dimensiones tiene ese array\n"
          ]
        }
      ],
      "source": [
        "# Ejercicio 1\n",
        "import numpy as np\n",
        "\n",
        "a = np.array([10, 20, 30])\n",
        "b = np.array([[1, 2, 3], [4, 5, 6]])\n",
        "c = np.array([[[1, 2], [3, 4]], [[5, 6], [7, 8]]])\n",
        "\n",
        "print(\"Forma del array a:\", a.shape)\n",
        "print(\"Forma del array b:\", b.shape)\n",
        "print(\"Forma del array c:\", c.shape)\n",
        "\n",
        "# Ejercicio 2\n",
        "print(\"La primera dimensión tiene 3 elementos(filas)\")\n",
        "print(\"La primera dimensión tiene 2 elementos(filas), la segunda dimensión tiene 3 elementos(columnas)\")\n",
        "print(\"La primera dimensión tiene 2 elementos(filas, la segunda dimensión tiene 2 elementos(columnas) y la tercera dimensión tiene 2 elementos\")\n",
        "\n",
        "# Ejercicio 3\n",
        "arr = np.array([1, 2, 3, 4], ndmin=4)\n",
        "\n",
        "print(arr)\n",
        "print(\"Forma del array:\", arr.shape)\n",
        "print(\"El array tiene 4 niveles de profundidad\")\n",
        "\n",
        "# Ejercicio 4\n",
        "print(\"Para saber cuantas dimensiones tiene ese array\")"
      ]
    },
    {
      "cell_type": "markdown",
      "metadata": {
        "id": "Sp1SNT9eM9yt"
      },
      "source": [
        "# Redimensionamiento de Arrays en NumPy\n",
        "\n",
        "## (*Array Reshaping*)\n",
        "\n",
        "---\n",
        "\n",
        "## ¿Qué significa “reshape”?\n",
        "\n",
        "**Reshaping** (redimensionar) significa **cambiar la forma** de un array, es decir, modificar **cuántos elementos hay en cada dimensión** sin alterar los datos originales.\n",
        "\n",
        "Recordemos:\n",
        "\n",
        "La **forma (shape)** de un array indica el número de elementos por dimensión.\n",
        "Con `.reshape()` podemos:\n",
        "\n",
        "* Añadir o quitar dimensiones.\n",
        "* Reorganizar los datos en una estructura diferente.\n",
        "\n",
        "➡️ **Muy habitual en Machine Learning para adaptar los datos a la forma esperada por el modelo.**\n",
        "\n",
        "Se usa cuando necesitamos cambiar la estructura del array sin modificar sus valores, por ejemplo:\n",
        "\n",
        "* Convertir un vector 1D en una matriz 2D (`(n_muestras, n_características)`).\n",
        "* Aplanar o reconstruir datos tras unir, dividir o filtrar.\n",
        "* Preparar las entradas de los modelos (por ejemplo, en regresión o redes neuronales).\n",
        "\n",
        "---\n",
        "\n",
        "#### 🔹 De 1-D a 2-D\n",
        "\n",
        "Podemos convertir un **array unidimensional** (1-D) en uno **bidimensional** (2-D).\n",
        "\n",
        "Ejemplo:"
      ]
    },
    {
      "cell_type": "code",
      "execution_count": null,
      "metadata": {
        "id": "gyV5XqqnM9yt"
      },
      "outputs": [],
      "source": [
        "import numpy as np\n",
        "\n",
        "arr = np.array([1, 2, 3, 4, 5, 6, 7, 8, 9, 10, 11, 12])\n",
        "newarr = arr.reshape(4, 3)\n",
        "\n",
        "print(newarr)"
      ]
    },
    {
      "cell_type": "markdown",
      "metadata": {
        "id": "RQZ7UpILM9yt"
      },
      "source": [
        "Aquí:\n",
        "\n",
        "* El array original tiene 12 elementos.\n",
        "* El nuevo tiene **4 filas × 3 columnas** → `(4, 3)` = 12 elementos totales.\n",
        "\n",
        "---\n",
        "\n",
        "#### 🔹 De 1-D a 3-D\n",
        "\n",
        "También podemos crear arrays tridimensionales (3-D), útiles en *Machine Learning* o *procesamiento de imágenes*.\n",
        "\n",
        "Ejemplo:"
      ]
    },
    {
      "cell_type": "code",
      "execution_count": null,
      "metadata": {
        "id": "FLBsqpfYM9yu"
      },
      "outputs": [],
      "source": [
        "arr = np.array([1, 2, 3, 4, 5, 6, 7, 8, 9, 10, 11, 12])\n",
        "newarr = arr.reshape(2, 3, 2)\n",
        "\n",
        "print(newarr)"
      ]
    },
    {
      "cell_type": "markdown",
      "metadata": {
        "id": "beyIKjJ_M9yu"
      },
      "source": [
        "Significa:\n",
        "\n",
        "* 2 bloques,\n",
        "* cada bloque con 3 filas,\n",
        "* y cada fila con 2 columnas → **2×3×2 = 12 elementos**.\n",
        "\n",
        "---\n",
        "\n",
        "#### ❌ No todas las formas son posibles\n",
        "\n",
        "Solo podemos usar `.reshape()` si el **número total de elementos** coincide antes y después.\n",
        "\n",
        "Ejemplo que da error:"
      ]
    },
    {
      "cell_type": "code",
      "execution_count": null,
      "metadata": {
        "id": "eyi0DLrnM9yu"
      },
      "outputs": [],
      "source": [
        "arr = np.array([1, 2, 3, 4, 5, 6, 7, 8])\n",
        "newarr = arr.reshape(3, 3)  # ❌ Error: 8 ≠ 9"
      ]
    },
    {
      "cell_type": "markdown",
      "metadata": {
        "id": "zlL9ZlhEM9yu"
      },
      "source": [
        "NumPy mostrará:\n",
        "\n",
        "```\n",
        "ValueError: cannot reshape array of size 8 into shape (3,3)\n",
        "```\n",
        "\n",
        "---\n",
        "\n",
        "#### 🔍 ¿Copia o vista?\n",
        "\n",
        "Por defecto, `reshape()` devuelve una **vista (view)** del array original si es posible.\n",
        "\n",
        "Podemos comprobarlo con el atributo `.base`:"
      ]
    },
    {
      "cell_type": "code",
      "execution_count": null,
      "metadata": {
        "id": "39HXGIH3M9yu"
      },
      "outputs": [],
      "source": [
        "import numpy as np\n",
        "\n",
        "arr = np.array([1, 2, 3, 4, 5, 6, 7, 8])\n",
        "print(arr.reshape(2, 4).base)"
      ]
    },
    {
      "cell_type": "markdown",
      "metadata": {
        "id": "zcREflZKM9yu"
      },
      "source": [
        " Devuelve el array original → es una **vista**, no una copia.\n",
        "Si modificas el nuevo array, también cambia el original.\n",
        "\n",
        "---\n",
        "\n",
        "#### 🔸 Dimensión desconocida (-1)\n",
        "\n",
        "Podemos dejar que NumPy **calcule automáticamente** una de las dimensiones usando `-1`.\n",
        "\n",
        "Ejemplo:"
      ]
    },
    {
      "cell_type": "code",
      "execution_count": null,
      "metadata": {
        "id": "0WsbUrEWM9yv"
      },
      "outputs": [],
      "source": [
        "arr = np.array([1, 2, 3, 4, 5, 6, 7, 8])\n",
        "newarr = arr.reshape(2, 2, -1)\n",
        "\n",
        "print(newarr)"
      ]
    },
    {
      "cell_type": "markdown",
      "metadata": {
        "id": "KnPXnG2bM9yv"
      },
      "source": [
        "Aquí NumPy calculó que la última dimensión debía ser 2, porque:\n",
        "`2 × 2 × 2 = 8` elementos totales.\n",
        "\n",
        "📌 Solo se puede usar **un -1** por reshape.\n",
        "\n",
        "---\n",
        "\n",
        "#### 🔻 Aplanar (Flattening)\n",
        "\n",
        "“Aplanar” un array significa **convertir un array multidimensional en uno de una sola dimensión (1-D)**.\n",
        "\n",
        "Podemos hacerlo con:\n",
        "\n",
        "```python\n",
        "newarr = arr.reshape(-1)\n",
        "```\n",
        "\n",
        "Ejemplo:"
      ]
    },
    {
      "cell_type": "code",
      "execution_count": null,
      "metadata": {
        "id": "F1_rP0hpM9yv",
        "colab": {
          "base_uri": "https://localhost:8080/"
        },
        "outputId": "ddbf7469-710f-427f-87cc-e6b90823876c"
      },
      "outputs": [
        {
          "output_type": "stream",
          "name": "stdout",
          "text": [
            "[1 2 3 4 5 6]\n"
          ]
        }
      ],
      "source": [
        "import numpy as np\n",
        "\n",
        "arr = np.array([[1, 2, 3],\n",
        "                [4, 5, 6]])\n",
        "\n",
        "newarr = arr.reshape(-1)\n",
        "\n",
        "print(newarr)"
      ]
    },
    {
      "cell_type": "markdown",
      "metadata": {
        "id": "6tzMqtp2M9yv"
      },
      "source": [
        "También existen otros métodos como `flatten()` o `ravel()`, pero `reshape(-1)` es el más sencillo y directo.\n",
        "\n",
        "---\n",
        "\n",
        "###  Resumen visual\n",
        "\n",
        "| Operación             | Código                         | Resultado / Forma               |\n",
        "| --------------------- | ------------------------------ | ------------------------------- |\n",
        "| 1-D → 2-D             | `reshape(4,3)`                 | `(4,3)`                         |\n",
        "| 1-D → 3-D             | `reshape(2,3,2)`               | `(2,3,2)`                       |\n",
        "| Forma incorrecta      | `reshape(3,3)` con 8 elementos | ❌ Error                         |\n",
        "| Vista del original    | `.reshape(...).base`           | Muestra el array original       |\n",
        "| Dimensión desconocida | `reshape(2,2,-1)`              | NumPy calcula el valor faltante |\n",
        "| Aplanar               | `reshape(-1)`                  | `(n,)` vector 1D                |\n",
        "\n",
        "---\n",
        "\n",
        "## <font color=\"red\"> Actividad práctica 6</font>\n",
        "\n",
        "1. Crea un array con los números del 1 al 12.\n",
        "\n",
        "   * Conviértelo en un array 3×4.\n",
        "   * Luego conviértelo en un array 2×3×2.\n",
        "   * Comprueba sus `.shape` en cada caso.\n",
        "\n",
        "2. Prueba a aplicar `reshape(3,3)` sobre un array con 8 elementos y observa el error que aparece.\n",
        "\n",
        "3. Usa `reshape(2, -1)` sobre el array `[1,2,3,4,5,6]` y explica qué hace NumPy con el `-1`.\n",
        "\n",
        "4. Convierte una matriz 2-D cualquiera en un array 1-D usando `reshape(-1)` y dibuja su estructura antes y después."
      ]
    },
    {
      "cell_type": "code",
      "execution_count": null,
      "metadata": {
        "id": "mslejgYpM9yv",
        "colab": {
          "base_uri": "https://localhost:8080/"
        },
        "outputId": "b9b97deb-6689-43ed-e7e5-e6791fc8fe9a"
      },
      "outputs": [
        {
          "output_type": "stream",
          "name": "stdout",
          "text": [
            "Array 3x4: [[ 1  2  3  4]\n",
            " [ 5  6  7  8]\n",
            " [ 9 10 11 12]]\n",
            "Forma Array 3x4: (3, 4)\n",
            "Array 2x3x2: [[[ 1  2]\n",
            "  [ 3  4]\n",
            "  [ 5  6]]\n",
            "\n",
            " [[ 7  8]\n",
            "  [ 9 10]\n",
            "  [11 12]]]\n",
            "FormaArray 2x3x2: (2, 3, 2)\n",
            "Array 2x-1: [[1 2 3]\n",
            " [4 5 6]]\n",
            "Forma Array 2x-1: (2, 3)\n",
            "Hace un array con el numero necesario de columnas para las filas indicadas\n",
            "Array 2D: [[1 2 3]\n",
            " [4 5 6]]\n",
            "Forma Array 2D: (2, 3)\n",
            "Array 1D: [1 2 3 4 5 6]\n",
            "Forma Array 1D: (6,)\n"
          ]
        }
      ],
      "source": [
        "# Ejercicio 1\n",
        "arr = np.array([1, 2, 3, 4, 5, 6, 7, 8, 9, 10, 11, 12])\n",
        "arr1 = arr.reshape(3,4)\n",
        "arr2 = arr.reshape(2,3,2)\n",
        "\n",
        "print(\"Array 3x4:\", arr1)\n",
        "print(\"Forma Array 3x4:\", arr1.shape)\n",
        "\n",
        "print(\"Array 2x3x2:\", arr2)\n",
        "print(\"FormaArray 2x3x2:\", arr2.shape)\n",
        "\n",
        "# Ejercicio 2\n",
        "a = np.array([1, 2, 3, 4, 5, 6, 7, 8])\n",
        "#a1 = a.reshape(3,3)\n",
        "\n",
        "#print(a1)\n",
        "\n",
        "# Ejercicio 3\n",
        "b = np.array([1, 2, 3, 4, 5, 6,])\n",
        "b1 = b.reshape(2,-1)\n",
        "\n",
        "print(\"Array 2x-1:\", b1)\n",
        "print(\"Forma Array 2x-1:\", b1.shape)\n",
        "print(\"Hace un array con el numero necesario de columnas para las filas indicadas\")\n",
        "\n",
        "# Ejercicio 4\n",
        "c = np.array([[1, 2, 3],\n",
        "                [4, 5, 6]])\n",
        "c1 = c.reshape(-1)\n",
        "\n",
        "print(\"Array 2D:\", c)\n",
        "print(\"Forma Array 2D:\", c.shape)\n",
        "\n",
        "print(\"Array 1D:\", c1)\n",
        "print(\"Forma Array 1D:\", c1.shape)\n",
        "\n"
      ]
    },
    {
      "cell_type": "markdown",
      "metadata": {
        "id": "kV10BOoQM9yv"
      },
      "source": [
        "# Iteración en Arrays de NumPy\n",
        "\n",
        "## (*Array Iterating*)\n",
        "\n",
        "---\n",
        "\n",
        "## ¿Qué significa “iterar”?\n",
        "\n",
        "**Iterar** significa **recorrer los elementos de un array uno por uno**.\n",
        "En Python, esto se hace normalmente con un **bucle `for`**, y NumPy permite hacerlo con arrays de cualquier número de dimensiones.\n",
        "\n",
        "---\n",
        "\n",
        "### 🔹 Iterar sobre un array 1-D\n",
        "\n",
        "Cuando recorremos un array unidimensional, el bucle pasa por **cada elemento** de manera secuencial."
      ]
    },
    {
      "cell_type": "code",
      "execution_count": null,
      "metadata": {
        "id": "nog77krXM9yw",
        "colab": {
          "base_uri": "https://localhost:8080/"
        },
        "outputId": "21466c79-857e-48bb-be87-d7d0059b8d2a"
      },
      "outputs": [
        {
          "output_type": "stream",
          "name": "stdout",
          "text": [
            "1\n",
            "2\n",
            "3\n"
          ]
        }
      ],
      "source": [
        "import numpy as np\n",
        "\n",
        "arr = np.array([1, 2, 3])\n",
        "\n",
        "for x in arr:\n",
        "    print(x)"
      ]
    },
    {
      "cell_type": "markdown",
      "metadata": {
        "id": "mgnrPXu2M9yw"
      },
      "source": [
        "Este tipo de bucle es idéntico al de una lista de Python.\n",
        "\n",
        "---\n",
        "\n",
        "#### 🔹 Iterar sobre un array 2-D\n",
        "\n",
        "En un array bidimensional, el bucle recorre **cada fila** (no los elementos individuales todavía)."
      ]
    },
    {
      "cell_type": "code",
      "execution_count": null,
      "metadata": {
        "id": "bZUklhjlM9yw",
        "colab": {
          "base_uri": "https://localhost:8080/"
        },
        "outputId": "1445dadf-cc38-40b5-f4bd-8075f7241cbd"
      },
      "outputs": [
        {
          "output_type": "stream",
          "name": "stdout",
          "text": [
            "[1 2 3]\n",
            "[4 5 6]\n"
          ]
        }
      ],
      "source": [
        "import numpy as np\n",
        "\n",
        "arr = np.array([[1, 2, 3],\n",
        "                [4, 5, 6]])\n",
        "\n",
        "for x in arr:\n",
        "    print(x)"
      ]
    },
    {
      "cell_type": "markdown",
      "metadata": {
        "id": "KDbkcwLxM9yw"
      },
      "source": [
        "Cada `x` es una **submatriz 1-D** (una fila del array).\n",
        "\n",
        "---\n",
        "\n",
        "#####  Recorrer cada elemento (escalares)\n",
        "\n",
        "Para acceder a los valores individuales, se anidan bucles:"
      ]
    },
    {
      "cell_type": "code",
      "execution_count": null,
      "metadata": {
        "id": "RFIoGzs4M9yx",
        "colab": {
          "base_uri": "https://localhost:8080/"
        },
        "outputId": "b24b8356-93eb-4a27-d550-3f8c42e97aa3"
      },
      "outputs": [
        {
          "output_type": "stream",
          "name": "stdout",
          "text": [
            "1\n",
            "2\n",
            "3\n",
            "4\n",
            "5\n",
            "6\n"
          ]
        }
      ],
      "source": [
        "for x in arr:\n",
        "    for y in x:\n",
        "        print(y)"
      ]
    },
    {
      "cell_type": "markdown",
      "metadata": {
        "id": "B-VqBpVZM9yx"
      },
      "source": [
        "---\n",
        "\n",
        "#### 🔹 Iterar sobre un array 3-D\n",
        "\n",
        "Un array tridimensional contiene **matrices 2-D** en su interior."
      ]
    },
    {
      "cell_type": "code",
      "execution_count": null,
      "metadata": {
        "id": "A-YgVoO9M9yx",
        "colab": {
          "base_uri": "https://localhost:8080/"
        },
        "outputId": "84bfebfc-bd9d-4538-f854-57fa411be126"
      },
      "outputs": [
        {
          "output_type": "stream",
          "name": "stdout",
          "text": [
            "[[1 2 3]\n",
            " [4 5 6]]\n",
            "[[ 7  8  9]\n",
            " [10 11 12]]\n"
          ]
        }
      ],
      "source": [
        "import numpy as np\n",
        "\n",
        "arr = np.array([\n",
        "  [[1, 2, 3], [4, 5, 6]],\n",
        "  [[7, 8, 9], [10, 11, 12]]\n",
        "])\n",
        "\n",
        "for x in arr:\n",
        "    print(x)"
      ]
    },
    {
      "cell_type": "markdown",
      "metadata": {
        "id": "PzzXCj2XM9yx"
      },
      "source": [
        "---\n",
        "\n",
        "#####  Recorrer todos los valores escalares\n",
        "\n",
        "Para llegar hasta los números individuales:"
      ]
    },
    {
      "cell_type": "code",
      "execution_count": null,
      "metadata": {
        "id": "ImsGlyCtM9yx",
        "colab": {
          "base_uri": "https://localhost:8080/"
        },
        "outputId": "361a73bc-1233-4f17-b285-fe4c34fd600f"
      },
      "outputs": [
        {
          "output_type": "stream",
          "name": "stdout",
          "text": [
            "1\n",
            "2\n",
            "3\n",
            "4\n",
            "5\n",
            "6\n",
            "7\n",
            "8\n",
            "9\n",
            "10\n",
            "11\n",
            "12\n"
          ]
        }
      ],
      "source": [
        "for x in arr:\n",
        "    for y in x:\n",
        "        for z in y:\n",
        "            print(z)"
      ]
    },
    {
      "cell_type": "markdown",
      "metadata": {
        "id": "5jYLdrr_M9yx"
      },
      "source": [
        "Cada nivel del bucle accede a una dimensión más profunda.\n",
        "\n",
        "---\n",
        "\n",
        "#### Usar `np.nditer()` (Iterador avanzado)\n",
        "\n",
        "Cuando el array tiene muchas dimensiones, escribir bucles anidados se vuelve complicado.\n",
        "Para eso, NumPy ofrece **`np.nditer()`**, que permite recorrer todos los elementos (escalares) **sin importar la cantidad de dimensiones**.\n",
        "\n",
        "Ejemplo:"
      ]
    },
    {
      "cell_type": "code",
      "execution_count": null,
      "metadata": {
        "id": "_Hrrp_sSM9yy",
        "colab": {
          "base_uri": "https://localhost:8080/"
        },
        "outputId": "5df2a383-a1de-4d55-c8db-55bb672607ef"
      },
      "outputs": [
        {
          "output_type": "stream",
          "name": "stdout",
          "text": [
            "1\n",
            "2\n",
            "3\n",
            "4\n",
            "5\n",
            "6\n",
            "7\n",
            "8\n"
          ]
        }
      ],
      "source": [
        "import numpy as np\n",
        "\n",
        "arr = np.array([\n",
        "  [[1, 2], [3, 4]],\n",
        "  [[5, 6], [7, 8]]\n",
        "])\n",
        "\n",
        "for x in np.nditer(arr):\n",
        "    print(x)"
      ]
    },
    {
      "cell_type": "markdown",
      "metadata": {
        "id": "Fvp_D_SiM9yy"
      },
      "source": [
        "`nditer()` recorre **todos los elementos** del array, sin importar su forma.\n",
        "\n",
        "---\n",
        "\n",
        "#### Cambiar el tipo de dato durante la iteración\n",
        "\n",
        "Podemos usar el argumento `op_dtypes` para transformar temporalmente los tipos de dato mientras iteramos."
      ]
    },
    {
      "cell_type": "code",
      "execution_count": null,
      "metadata": {
        "id": "7HDnLACxM9yy",
        "colab": {
          "base_uri": "https://localhost:8080/"
        },
        "outputId": "055aced1-97b5-4a38-b4fe-37b1992da323"
      },
      "outputs": [
        {
          "output_type": "stream",
          "name": "stdout",
          "text": [
            "np.bytes_(b'1')\n",
            "np.bytes_(b'2')\n",
            "np.bytes_(b'3')\n"
          ]
        }
      ],
      "source": [
        "import numpy as np\n",
        "\n",
        "arr = np.array([1, 2, 3])\n",
        "\n",
        "for x in np.nditer(arr, flags=['buffered'], op_dtypes=['S']):\n",
        "    print(x)"
      ]
    },
    {
      "cell_type": "markdown",
      "metadata": {
        "id": "8hq4kJacM9yy"
      },
      "source": [
        "Se convierten los valores numéricos en cadenas de texto (`bytes`).\n",
        "\n",
        "El parámetro `flags=['buffered']` permite crear un **espacio temporal** para convertir los datos sin modificar el array original.\n",
        "\n",
        "---\n",
        "\n",
        "#### Iterar con paso (step)\n",
        "\n",
        "Podemos combinar **rebanado (slicing)** con la iteración.\n",
        "\n",
        "Ejemplo:"
      ]
    },
    {
      "cell_type": "code",
      "execution_count": null,
      "metadata": {
        "id": "9rYfgn1xM9yy",
        "colab": {
          "base_uri": "https://localhost:8080/"
        },
        "outputId": "d3fe936e-2c1d-42ff-f1ca-60522c6cb769"
      },
      "outputs": [
        {
          "output_type": "stream",
          "name": "stdout",
          "text": [
            "1\n",
            "3\n",
            "5\n",
            "7\n"
          ]
        }
      ],
      "source": [
        "import numpy as np\n",
        "\n",
        "arr = np.array([[1, 2, 3, 4],\n",
        "                [5, 6, 7, 8]])\n",
        "\n",
        "for x in np.nditer(arr[:, ::2]):\n",
        "    print(x)"
      ]
    },
    {
      "cell_type": "markdown",
      "metadata": {
        "id": "IKTubCReM9yz"
      },
      "source": [
        "Aquí `arr[:, ::2]` selecciona **todas las filas** pero **solo las columnas pares** (saltando de 2 en 2).\n",
        "\n",
        "---\n",
        "\n",
        "#### Iteración con índices → `np.ndenumerate()`\n",
        "\n",
        "Si además de los valores quieres saber **la posición (índice)** de cada elemento, usa `ndenumerate()`.\n",
        "\n",
        "##### Ejemplo 1 — Array 1-D"
      ]
    },
    {
      "cell_type": "code",
      "execution_count": null,
      "metadata": {
        "id": "3AeoUGg5M9yz",
        "colab": {
          "base_uri": "https://localhost:8080/"
        },
        "outputId": "bb0553e3-6bd6-42ae-e880-4a451af1c2ca"
      },
      "outputs": [
        {
          "output_type": "stream",
          "name": "stdout",
          "text": [
            "(0,) 1\n",
            "(1,) 2\n",
            "(2,) 3\n"
          ]
        }
      ],
      "source": [
        "import numpy as np\n",
        "\n",
        "arr = np.array([1, 2, 3])\n",
        "\n",
        "for idx, x in np.ndenumerate(arr):\n",
        "    print(idx, x)"
      ]
    },
    {
      "cell_type": "markdown",
      "metadata": {
        "id": "ldb_isNrM9yz"
      },
      "source": [
        "---\n",
        "\n",
        "####  Ejemplo 2 — Array 2-D"
      ]
    },
    {
      "cell_type": "code",
      "execution_count": null,
      "metadata": {
        "id": "pLCc4wu3M9yz",
        "colab": {
          "base_uri": "https://localhost:8080/"
        },
        "outputId": "9e56f8c0-c2b4-4205-a399-e35c425e7663"
      },
      "outputs": [
        {
          "output_type": "stream",
          "name": "stdout",
          "text": [
            "(0, 0) 1\n",
            "(0, 1) 2\n",
            "(0, 2) 3\n",
            "(0, 3) 4\n",
            "(1, 0) 5\n",
            "(1, 1) 6\n",
            "(1, 2) 7\n",
            "(1, 3) 8\n"
          ]
        }
      ],
      "source": [
        "arr = np.array([[1, 2, 3, 4],\n",
        "                [5, 6, 7, 8]])\n",
        "\n",
        "for idx, x in np.ndenumerate(arr):\n",
        "    print(idx, x)"
      ]
    },
    {
      "cell_type": "markdown",
      "metadata": {
        "id": "UsnMAko9M9yz"
      },
      "source": [
        "Cada tupla `(fila, columna)` indica la posición del valor dentro del array.\n",
        "\n",
        "---\n",
        "\n",
        "###  Resumen visual\n",
        "\n",
        "| Método                            | Qué recorre              | Devuelve                | Ejemplo               |\n",
        "| --------------------------------- | ------------------------ | ----------------------- | --------------------- |\n",
        "| `for x in arr`                    | Filas o subarrays        | Arrays 1-D o 2-D        | `for x in arr:`       |\n",
        "| `np.nditer(arr)`                  | Todos los elementos      | Escalares               | Iteración total       |\n",
        "| `np.nditer(..., op_dtypes=['S'])` | Todos los elementos      | Convertidos a otro tipo | Temporales con buffer |\n",
        "| `np.nditer(arr[:, ::2])`          | Subconjunto de elementos | Escalares               | Iteración con paso    |\n",
        "| `np.ndenumerate(arr)`             | Elementos + índice       | (índice, valor)         | Con posición exacta   |\n",
        "\n",
        "---\n",
        "\n",
        "## <font color=\"red\"> Actividad práctica 7</font>\n",
        "\n",
        "1. Crea el array:\n",
        "\n",
        "   ```python\n",
        "   import numpy as np\n",
        "   arr = np.array([[10, 20, 30], [40, 50, 60]])\n",
        "   ```\n",
        "\n",
        "   * Recorre el array con un `for` simple (deberías ver las filas).\n",
        "   * Luego recorre **cada elemento** con bucles anidados.\n",
        "   * Después, usa `np.nditer()` para hacerlo en una sola línea.\n",
        "\n",
        "2. Crea un array 3-D con `np.arange(1, 13).reshape(2, 3, 2)`\n",
        "\n",
        "   * Usa `np.ndenumerate()` para imprimir el índice y el valor.\n",
        "\n",
        "3. Explica con tus palabras:\n",
        "\n",
        "   * ¿Qué ventajas tiene usar `np.nditer()` frente a bucles anidados normales?\n",
        "   * ¿En qué casos crees que sería útil `ndenumerate()`?\n"
      ]
    },
    {
      "cell_type": "code",
      "execution_count": null,
      "metadata": {
        "id": "Pcz0OZAtM9y0",
        "colab": {
          "base_uri": "https://localhost:8080/"
        },
        "outputId": "ac51ffe7-72de-4e29-a39c-bea37785a6c6"
      },
      "outputs": [
        {
          "output_type": "stream",
          "name": "stdout",
          "text": [
            "[10 20 30]\n",
            "10\n",
            "20\n",
            "30\n",
            "[40 50 60]\n",
            "40\n",
            "50\n",
            "60\n",
            "10\n",
            "20\n",
            "30\n",
            "40\n",
            "50\n",
            "60\n",
            "(0, 0, 0) 1\n",
            "(0, 0, 1) 2\n",
            "(0, 1, 0) 3\n",
            "(0, 1, 1) 4\n",
            "(0, 2, 0) 5\n",
            "(0, 2, 1) 6\n",
            "(1, 0, 0) 7\n",
            "(1, 0, 1) 8\n",
            "(1, 1, 0) 9\n",
            "(1, 1, 1) 10\n",
            "(1, 2, 0) 11\n",
            "(1, 2, 1) 12\n",
            "Que te hace directamente como si fuera un for anidado en una sola linea\n",
            "Para saber la posición de un elemento del array que quieres modificar\n"
          ]
        }
      ],
      "source": [
        "# Ejercicio 1\n",
        "import numpy as np\n",
        "\n",
        "arr = np.array([[10, 20, 30], [40, 50, 60]])\n",
        "\n",
        "for x in arr:\n",
        "    print(x)\n",
        "    for y in x:\n",
        "        print(y)\n",
        "\n",
        "for x in np.nditer(arr):\n",
        "    print(x)\n",
        "\n",
        "# Ejercicio 2\n",
        "arr = np.arange(1, 13).reshape(2, 3, 2)\n",
        "\n",
        "for idx, x in np.ndenumerate(arr):\n",
        "    print(idx, x)\n",
        "\n",
        "# Ejercicio 3\n",
        "print(\"Que te hace directamente como si fuera un for anidado en una sola linea\")\n",
        "print(\"Para saber la posición de un elemento del array que quieres modificar\")"
      ]
    },
    {
      "cell_type": "markdown",
      "metadata": {
        "id": "HkcMaowKM9y0"
      },
      "source": [
        "\n",
        "# 🔝 Unir arrays en NumPy\n",
        "\n",
        "En NumPy, **unir arrays** significa poner el contenido de dos o más arrays juntos en uno solo.\n",
        "\n",
        "📘 Si vienes del mundo de las bases de datos (SQL), allí un *join* une tablas según una clave.\n",
        "En NumPy, unimos arrays según sus **ejes (axes)**.\n",
        "\n",
        "**Muy frecuente en preparación de datos**\n",
        "\n",
        "Estas funciones se usan al:\n",
        "\n",
        "* Combinar conjuntos de entrenamiento y validación.\n",
        "* Unir columnas de características (`features`) o etiquetas (`labels`).\n",
        "\n",
        "Ejemplo:\n",
        "\n",
        "```python\n",
        "X_full = np.concatenate((X_train, X_test))\n",
        "y_full = np.concatenate((y_train, y_test))\n",
        "```\n",
        "\n",
        "👉 En proyectos de ML siempre hay momentos en que necesitas **fusionar o trocear matrices de datos**.\n",
        "\n",
        "\n",
        "---\n",
        "\n",
        "##  1. Concatenar arrays con `np.concatenate()`\n",
        "\n",
        "La función `concatenate()` sirve para **unir arrays existentes a lo largo de un eje**.\n",
        "\n",
        "📏 Si no indicas el eje, por defecto usa `axis=0` (filas).\n",
        "\n",
        "### Ejemplo: unir dos arrays 1D"
      ]
    },
    {
      "cell_type": "code",
      "execution_count": null,
      "metadata": {
        "id": "aOur2TNbM9y0",
        "colab": {
          "base_uri": "https://localhost:8080/"
        },
        "outputId": "b192fe05-45b2-49f0-f0f0-4ae43b5cfe4a"
      },
      "outputs": [
        {
          "output_type": "stream",
          "name": "stdout",
          "text": [
            "[1 2 3 4 5 6]\n"
          ]
        }
      ],
      "source": [
        "import numpy as np\n",
        "\n",
        "arr1 = np.array([1, 2, 3])\n",
        "arr2 = np.array([4, 5, 6])\n",
        "\n",
        "arr = np.concatenate((arr1, arr2))\n",
        "print(arr)"
      ]
    },
    {
      "cell_type": "markdown",
      "metadata": {
        "id": "tmUZr9cUM9y0"
      },
      "source": [
        "\n",
        "---\n",
        "\n",
        "### Ejemplo: unir dos arrays 2D por columnas (`axis=1`)"
      ]
    },
    {
      "cell_type": "code",
      "execution_count": null,
      "metadata": {
        "id": "uuT2Dzm6M9y0",
        "colab": {
          "base_uri": "https://localhost:8080/"
        },
        "outputId": "df48154c-5b54-41df-9367-37daa34023d3"
      },
      "outputs": [
        {
          "output_type": "stream",
          "name": "stdout",
          "text": [
            "[[1 2 5 6]\n",
            " [3 4 7 8]]\n"
          ]
        }
      ],
      "source": [
        "import numpy as np\n",
        "\n",
        "arr1 = np.array([[1, 2], [3, 4]])\n",
        "arr2 = np.array([[5, 6], [7, 8]])\n",
        "\n",
        "arr = np.concatenate((arr1, arr2), axis=1)\n",
        "print(arr)"
      ]
    },
    {
      "cell_type": "markdown",
      "metadata": {
        "id": "h5UpQbDxM9y0"
      },
      "source": [
        "**Regla importante:**\n",
        "Las dimensiones deben coincidir en todos los ejes excepto en el que estás concatenando.\n",
        "\n",
        "---\n",
        "\n",
        "##  2. Apilar arrays con `np.stack()`\n",
        "\n",
        "“Apilar” (*stacking*) es muy parecido a concatenar, pero **crea un nuevo eje**.\n",
        "En otras palabras, no une sobre un eje existente, sino que añade una nueva dimensión.\n",
        "\n",
        "###  Ejemplo:\n"
      ]
    },
    {
      "cell_type": "code",
      "execution_count": null,
      "metadata": {
        "id": "brQJM8VSM9y1",
        "colab": {
          "base_uri": "https://localhost:8080/"
        },
        "outputId": "1f525aae-4709-46d9-d385-3da4e2aaecf9"
      },
      "outputs": [
        {
          "output_type": "stream",
          "name": "stdout",
          "text": [
            "[[1 4]\n",
            " [2 5]\n",
            " [3 6]]\n"
          ]
        }
      ],
      "source": [
        "import numpy as np\n",
        "\n",
        "arr1 = np.array([1, 2, 3])\n",
        "arr2 = np.array([4, 5, 6])\n",
        "\n",
        "arr = np.stack((arr1, arr2), axis=1)\n",
        "print(arr)"
      ]
    },
    {
      "cell_type": "markdown",
      "metadata": {
        "id": "m71aG1hrM9y1"
      },
      "source": [
        "Aquí se ha creado un eje nuevo (columnas).\n",
        "Si usamos `axis=0`, los arrays se apilarían uno encima del otro.\n",
        "Si usamos `axis=1`, se apilan uno al lado del otro.\n",
        "\n",
        "---\n",
        "\n",
        "## 3. Funciones especiales para apilar más fácilmente\n",
        "\n",
        "NumPy tiene versiones simplificadas de `stack()` para casos comunes:\n",
        "\n",
        "| Función       | Qué hace                               | Eje |\n",
        "| ------------- | -------------------------------------- | --- |\n",
        "| `np.hstack()` | Une horizontalmente (filas → columnas) | 1   |\n",
        "| `np.vstack()` | Une verticalmente (una sobre otra)     | 0   |\n",
        "| `np.dstack()` | Une en profundidad (altura o “capas”)  | 2   |\n",
        "\n",
        "---\n",
        "\n",
        "### Ejemplo: `hstack()` (horizontal)"
      ]
    },
    {
      "cell_type": "code",
      "execution_count": null,
      "metadata": {
        "id": "Gjx8kFdvM9y1",
        "colab": {
          "base_uri": "https://localhost:8080/"
        },
        "outputId": "81d4e35a-065f-4959-b62c-ed0ea995f2c3"
      },
      "outputs": [
        {
          "output_type": "stream",
          "name": "stdout",
          "text": [
            "[1 2 3 4 5 6]\n"
          ]
        }
      ],
      "source": [
        "import numpy as np\n",
        "\n",
        "arr1 = np.array([1, 2, 3])\n",
        "arr2 = np.array([4, 5, 6])\n",
        "\n",
        "arr = np.hstack((arr1, arr2))\n",
        "print(arr)\n",
        "# [1 2 3 4 5 6]"
      ]
    },
    {
      "cell_type": "markdown",
      "metadata": {
        "id": "oc8eawwjM9y1"
      },
      "source": [
        "---\n",
        "\n",
        "##### Ejemplo: `vstack()` (vertical)"
      ]
    },
    {
      "cell_type": "code",
      "execution_count": null,
      "metadata": {
        "id": "4_RNZhVyM9y2",
        "colab": {
          "base_uri": "https://localhost:8080/"
        },
        "outputId": "f9f82549-dfe2-427e-958a-f634ef13b38e"
      },
      "outputs": [
        {
          "output_type": "stream",
          "name": "stdout",
          "text": [
            "[[1 2 3]\n",
            " [4 5 6]]\n"
          ]
        }
      ],
      "source": [
        "import numpy as np\n",
        "\n",
        "arr1 = np.array([1, 2, 3])\n",
        "arr2 = np.array([4, 5, 6])\n",
        "\n",
        "arr = np.vstack((arr1, arr2))\n",
        "print(arr)"
      ]
    },
    {
      "cell_type": "markdown",
      "metadata": {
        "id": "mipmLMvuM9y2"
      },
      "source": [
        "---\n",
        "\n",
        "#### Ejemplo: `dstack()` (profundidad)"
      ]
    },
    {
      "cell_type": "code",
      "execution_count": null,
      "metadata": {
        "id": "Ji2KBnYHM9y2",
        "colab": {
          "base_uri": "https://localhost:8080/"
        },
        "outputId": "100334a2-6088-4b0b-b8e9-cddf38fea5fb"
      },
      "outputs": [
        {
          "output_type": "stream",
          "name": "stdout",
          "text": [
            "[[[1 4]\n",
            "  [2 5]\n",
            "  [3 6]]]\n"
          ]
        }
      ],
      "source": [
        "import numpy as np\n",
        "\n",
        "arr1 = np.array([1, 2, 3])\n",
        "arr2 = np.array([4, 5, 6])\n",
        "\n",
        "arr = np.dstack((arr1, arr2))\n",
        "print(arr)"
      ]
    },
    {
      "cell_type": "markdown",
      "metadata": {
        "id": "IAMpjW1WM9y2"
      },
      "source": [
        "Esto se usa mucho en imágenes o datos 3D, donde cada capa representa algo distinto (por ejemplo, canales de color RGB).\n",
        "\n",
        "---\n",
        "\n",
        "### En resumen\n",
        "\n",
        "| Método          | Crea nuevo eje | Dirección de unión            | Ejemplo visual                          |\n",
        "| --------------- | -------------- | ----------------------------- | --------------------------------------- |\n",
        "| `concatenate()` | ❌              | eje existente (por defecto 0) | `[1,2,3] + [4,5,6] → [1,2,3,4,5,6]`     |\n",
        "| `stack()`       | ✅              | nuevo eje                     | crea matriz 2D o 3D                     |\n",
        "| `hstack()`      | ❌              | horizontal (columnas)         | `[1,2,3]` + `[4,5,6]` → `[1,2,3,4,5,6]` |\n",
        "| `vstack()`      | ❌              | vertical (filas)              | crea 2 filas                            |\n",
        "| `dstack()`      | ✅              | profundidad (capas)           | útil en imágenes                        |\n",
        "\n",
        "Perfecto 👌.\n",
        "Aquí tienes una **actividad sencilla**, en el mismo formato y nivel que la que has mostrado, para cerrar la parte de *unión de arrays*:\n",
        "\n",
        "---\n",
        "\n",
        "## <font color=\"red\">Actividad práctica 8</font>\n",
        "\n",
        "1. Crea los siguientes arrays:\n",
        "\n",
        "   ```python\n",
        "   import numpy as np\n",
        "   a = np.array([1, 2, 3])\n",
        "   b = np.array([4, 5, 6])\n",
        "   ```\n",
        "\n",
        "   * Une los dos arrays con `np.concatenate()`.\n",
        "   * Luego haz lo mismo con `np.stack((a, b), axis=1)` y observa la diferencia.\n",
        "   * Imprime ambos resultados y sus formas (`.shape`).\n",
        "\n",
        "---\n",
        "\n",
        "2. Crea los arrays:\n",
        "\n",
        "   ```python\n",
        "   x = np.array([[1, 2], [3, 4]])\n",
        "   y = np.array([[5, 6], [7, 8]])\n",
        "   ```\n",
        "\n",
        "   * Únelos horizontalmente con `np.hstack((x, y))`.\n",
        "   * Únelos verticalmente con `np.vstack((x, y))`.\n",
        "   * Comprueba con `.shape` cómo cambia la dimensión del array.\n",
        "\n",
        "---\n",
        "\n",
        "3. Explica con tus palabras:\n",
        "\n",
        "   * ¿Qué diferencia hay entre `concatenate()` y `stack()`?\n",
        "   * ¿En qué caso usarías `hstack()` o `vstack()` en lugar de `concatenate()`?\n",
        "\n",
        "---\n",
        "\n"
      ]
    },
    {
      "cell_type": "code",
      "source": [
        "# Ejercicio 1\n",
        "import numpy as np\n",
        "\n",
        "a = np.array([1, 2, 3])\n",
        "b = np.array([4, 5, 6])\n",
        "\n",
        "arr = np.concatenate((a, b))\n",
        "print(\"Array concatenado\", arr)\n",
        "print(\"Forma del array concatenado\", arr.shape)\n",
        "\n",
        "arr1 = np.stack((a, b), axis=1)\n",
        "print(\"Array apilado:\", arr1)\n",
        "print(\"Forma del array apilado\", arr1.shape)\n",
        "\n",
        "# Ejercicio 2\n",
        "x = np.array([[1, 2], [3, 4]])\n",
        "y = np.array([[5, 6], [7, 8]])\n",
        "\n",
        "arr2 = np.hstack((x, y))\n",
        "print(\"Array horizontalmente apilado\", arr2)\n",
        "print(\"Forma del array horizontalmente apilado\", arr2.shape)\n",
        "\n",
        "arr3 = np.vstack((x, y))\n",
        "print(\"Array verticalmente apilado\", arr3)\n",
        "print(\"Forma del array verticalmente apilado\", arr3.shape)\n",
        "\n",
        "# Ejercicio 3\n",
        "print(\"concatenate(): une los dos arrays en una linea\")\n",
        "print(\"stack(): une los dos arrays añadiendo una dimension\")\n",
        "\n",
        "print(\"hstack(): une los dos arrays horizontalmente\")\n",
        "print(\"vstack(): une los dos arrays verticalmente\")"
      ],
      "metadata": {
        "colab": {
          "base_uri": "https://localhost:8080/"
        },
        "id": "gG9TM9FUsmqY",
        "outputId": "f683d152-470c-4ee1-efa0-dd4462ae8fe0"
      },
      "execution_count": null,
      "outputs": [
        {
          "output_type": "stream",
          "name": "stdout",
          "text": [
            "Array concatenado [1 2 3 4 5 6]\n",
            "Forma del array concatenado (6,)\n",
            "Array apilado: [[1 4]\n",
            " [2 5]\n",
            " [3 6]]\n",
            "Forma del array apilado (3, 2)\n",
            "Array horizontalmente apilado [[1 2 5 6]\n",
            " [3 4 7 8]]\n",
            "Forma del array horizontalmente apilado (2, 4)\n",
            "Array verticalmente apilado [[1 2]\n",
            " [3 4]\n",
            " [5 6]\n",
            " [7 8]]\n",
            "Forma del array verticalmente apilado (4, 2)\n",
            "concatenate(): une los dos arrays en una linea\n",
            "stack(): une los dos arrays en una columna\n"
          ]
        }
      ]
    },
    {
      "cell_type": "markdown",
      "metadata": {
        "id": "MQ7cLtROM9y3"
      },
      "source": [
        "\n",
        "# 🔝 NumPy: Dividir arrays (*Splitting arrays*)\n",
        "\n",
        "La **división de arrays** es la operación contraria a la unión (*joining*).\n",
        "Mientras **unir (join)** combina varios arrays en uno solo, **dividir (split)** separa un array en varias partes más pequeñas.\n",
        "\n",
        "➡️ **Muy frecuente en la preparación de datos para Machine Learning**\n",
        "\n",
        "Estas funciones se usan para **separar datasets grandes** en varios subconjuntos, por ejemplo:\n",
        "\n",
        "* Entrenamiento y prueba (`train` / `test`).\n",
        "* Entrenamiento, validación y prueba (`train` / `val` / `test`).\n",
        "* Particiones de datos para validación cruzada.\n",
        "\n",
        "---\n",
        "\n",
        "## 🔹 1. Dividir arrays 1D con `np.array_split()`\n",
        "\n",
        "La función `np.array_split()` sirve para **dividir un array en varias partes**.\n",
        "Se le indica:\n",
        "\n",
        "1. El array que queremos dividir.\n",
        "2. El número de partes.\n",
        "\n",
        "### Ejemplo: dividir en 3 partes"
      ]
    },
    {
      "cell_type": "code",
      "execution_count": null,
      "metadata": {
        "id": "qYUc0fohM9y3"
      },
      "outputs": [],
      "source": [
        "import numpy as np\n",
        "\n",
        "arr = np.array([1, 2, 3, 4, 5, 6])\n",
        "newarr = np.array_split(arr, 3)\n",
        "\n",
        "print(newarr)"
      ]
    },
    {
      "cell_type": "markdown",
      "metadata": {
        "id": "lSEGg0ZJM9y3"
      },
      "source": [
        "El resultado es una **lista** que contiene tres arrays separados.\n",
        "\n",
        "---\n",
        "\n",
        "### Ejemplo: dividir en 4 partes"
      ]
    },
    {
      "cell_type": "code",
      "execution_count": null,
      "metadata": {
        "id": "Vblr2WHEM9y3"
      },
      "outputs": [],
      "source": [
        "import numpy as np\n",
        "\n",
        "arr = np.array([1, 2, 3, 4, 5, 6])\n",
        "newarr = np.array_split(arr, 4)\n",
        "\n",
        "print(newarr)"
      ]
    },
    {
      "cell_type": "markdown",
      "metadata": {
        "id": "izmaBBz7M9y4"
      },
      "source": [
        "Si el número de elementos no se reparte exactamente, NumPy ajusta las divisiones automáticamente desde el final.\n",
        "\n",
        " **Nota:**\n",
        "Existe otra función llamada `split()`, pero **falla** si el número de elementos no encaja exactamente en las divisiones.\n",
        "Por eso se recomienda usar **`array_split()`**.\n",
        "\n",
        "---\n",
        "\n",
        "## 2. Acceder a las partes del resultado\n",
        "\n",
        "El resultado de `array_split()` es una lista.\n",
        "Podemos acceder a cada parte igual que accedemos a los elementos de una lista normal:"
      ]
    },
    {
      "cell_type": "code",
      "execution_count": null,
      "metadata": {
        "id": "iHl7dwVpM9y4"
      },
      "outputs": [],
      "source": [
        "import numpy as np\n",
        "\n",
        "arr = np.array([1, 2, 3, 4, 5, 6])\n",
        "newarr = np.array_split(arr, 3)\n",
        "\n",
        "print(newarr[0])   # primera parte\n",
        "print(newarr[1])   # segunda parte\n",
        "print(newarr[2])   # tercera parte"
      ]
    },
    {
      "cell_type": "markdown",
      "metadata": {
        "id": "oVXaJ_nDM9y4"
      },
      "source": [
        "---\n",
        "\n",
        "## 3. Dividir arrays 2D\n",
        "\n",
        "Funciona exactamente igual con arrays de dos dimensiones.\n",
        "\n",
        "#### Ejemplo: dividir en tres arrays 2D\n"
      ]
    },
    {
      "cell_type": "code",
      "execution_count": null,
      "metadata": {
        "id": "jVpZJ7phM9y4"
      },
      "outputs": [],
      "source": [
        "import numpy as np\n",
        "\n",
        "arr = np.array([\n",
        "    [1, 2], [3, 4], [5, 6],\n",
        "    [7, 8], [9, 10], [11, 12]\n",
        "])\n",
        "\n",
        "newarr = np.array_split(arr, 3)\n",
        "print(newarr)"
      ]
    },
    {
      "cell_type": "markdown",
      "metadata": {
        "id": "atfZ3dW9M9y5"
      },
      "source": [
        "---\n",
        "\n",
        "#### Ejemplo con más columnas\n"
      ]
    },
    {
      "cell_type": "code",
      "execution_count": null,
      "metadata": {
        "id": "7Bdr-JLCM9y5"
      },
      "outputs": [],
      "source": [
        "import numpy as np\n",
        "\n",
        "arr = np.array([\n",
        "  [1, 2, 3], [4, 5, 6],\n",
        "  [7, 8, 9], [10, 11, 12],\n",
        "  [13, 14, 15], [16, 17, 18]\n",
        "])\n",
        "\n",
        "newarr = np.array_split(arr, 3)\n",
        "print(newarr)"
      ]
    },
    {
      "cell_type": "markdown",
      "metadata": {
        "id": "ea_4EuDWM9y5"
      },
      "source": [
        "También devuelve tres arrays 2D, cada uno con dos filas.\n",
        "\n",
        "---\n",
        "\n",
        "## 4. Dividir según columnas (`axis=1`)\n",
        "\n",
        "También puedes indicar **en qué eje** se hará la división:\n",
        "\n",
        "* `axis=0` → por filas (por defecto)\n",
        "* `axis=1` → por columnas\n",
        "\n",
        "#### Ejemplo:"
      ]
    },
    {
      "cell_type": "code",
      "execution_count": null,
      "metadata": {
        "id": "Y6J2KS1AM9y5",
        "colab": {
          "base_uri": "https://localhost:8080/"
        },
        "outputId": "27a5e6ae-4a67-4485-f161-bb40d892838b"
      },
      "outputs": [
        {
          "output_type": "stream",
          "name": "stdout",
          "text": [
            "[array([[ 1],\n",
            "       [ 4],\n",
            "       [ 7],\n",
            "       [10],\n",
            "       [13],\n",
            "       [16]]), array([[ 2],\n",
            "       [ 5],\n",
            "       [ 8],\n",
            "       [11],\n",
            "       [14],\n",
            "       [17]]), array([[ 3],\n",
            "       [ 6],\n",
            "       [ 9],\n",
            "       [12],\n",
            "       [15],\n",
            "       [18]])]\n"
          ]
        }
      ],
      "source": [
        "import numpy as np\n",
        "\n",
        "arr = np.array([\n",
        "  [1, 2, 3],\n",
        "  [4, 5, 6],\n",
        "  [7, 8, 9],\n",
        "  [10, 11, 12],\n",
        "  [13, 14, 15],\n",
        "  [16, 17, 18]\n",
        "])\n",
        "\n",
        "newarr = np.array_split(arr, 3, axis=1)\n",
        "print(newarr)"
      ]
    },
    {
      "cell_type": "markdown",
      "metadata": {
        "id": "groiM9ksM9y5"
      },
      "source": [
        "---\n",
        "\n",
        "##  5. Alternativas: `hsplit()`, `vsplit()` y `dsplit()`\n",
        "\n",
        "NumPy tiene funciones simplificadas para dividir arrays según la dirección del eje:\n",
        "\n",
        "| Función       | Divide por            | Equivalente a |\n",
        "| ------------- | --------------------- | ------------- |\n",
        "| `np.hsplit()` | Columnas (horizontal) | `axis=1`      |\n",
        "| `np.vsplit()` | Filas (vertical)      | `axis=0`      |\n",
        "| `np.dsplit()` | Profundidad (capas)   | `axis=2`      |\n",
        "\n",
        "##### Ejemplo: dividir horizontalmente (`hsplit`)"
      ]
    },
    {
      "cell_type": "code",
      "execution_count": null,
      "metadata": {
        "id": "h9NAWM9QM9y5"
      },
      "outputs": [],
      "source": [
        "import numpy as np\n",
        "\n",
        "arr = np.array([\n",
        "  [1, 2, 3],\n",
        "  [4, 5, 6],\n",
        "  [7, 8, 9],\n",
        "  [10, 11, 12],\n",
        "  [13, 14, 15],\n",
        "  [16, 17, 18]\n",
        "])\n",
        "\n",
        "newarr = np.hsplit(arr, 3)\n",
        "print(newarr)"
      ]
    },
    {
      "cell_type": "markdown",
      "metadata": {
        "id": "AXqDUC_qM9y6"
      },
      "source": [
        "##  En resumen\n",
        "\n",
        "| Método          | Qué hace                                        | Dirección           | Devuelve        |\n",
        "| --------------- | ----------------------------------------------- | ------------------- | --------------- |\n",
        "| `array_split()` | Divide arrays aunque no sean divisibles exactos | filas (por defecto) | Lista de arrays |\n",
        "| `split()`       | Divide pero **requiere división exacta**        | filas               | Lista de arrays |\n",
        "| `hsplit()`      | Divide por columnas                             | horizontal          | Lista de arrays |\n",
        "| `vsplit()`      | Divide por filas                                | vertical            | Lista de arrays |\n",
        "| `dsplit()`      | Divide en profundidad                           | 3D                  | Lista de arrays |\n",
        "\n",
        "---\n",
        "\n",
        "## <font color=\"red\">Actividad práctica 9</font>\n",
        "\n",
        "1. Crea el array:\n",
        "\n",
        "   ```python\n",
        "   import numpy as np\n",
        "   arr = np.array([10, 20, 30, 40, 50, 60, 70])\n",
        "   ```\n",
        "\n",
        "   * Divide el array en **3 partes** usando `np.array_split()`.\n",
        "   * Imprime cada parte por separado.\n",
        "\n",
        "2. Crea el siguiente array 2D:\n",
        "\n",
        "   ```python\n",
        "   arr = np.array([\n",
        "       [1, 2, 3, 4, 5, 6],\n",
        "       [7, 8, 9, 10, 11, 12]\n",
        "   ])\n",
        "   ```\n",
        "\n",
        "   * Divide el array horizontalmente con `np.hsplit(arr, 3)`.\n",
        "   * Divide el array verticalmente con `np.vsplit(arr, 2)`.\n",
        "   * Observa la diferencia de resultado.\n",
        "\n",
        "3. Explica con tus palabras:\n",
        "\n",
        "   * ¿Qué diferencia hay entre `split()` y `array_split()`?\n",
        "   * ¿En qué se parecen `hstack()` / `hsplit()` y `vstack()` / `vsplit()`?\n"
      ]
    },
    {
      "cell_type": "code",
      "execution_count": null,
      "metadata": {
        "id": "pE_8cP5MM9y6",
        "colab": {
          "base_uri": "https://localhost:8080/"
        },
        "outputId": "58aad07c-fa66-42b2-8bed-9cba535794c8"
      },
      "outputs": [
        {
          "output_type": "stream",
          "name": "stdout",
          "text": [
            "[10 20 30]\n",
            "[40 50]\n",
            "[60 70]\n",
            "[array([[1, 2],\n",
            "       [7, 8]]), array([[ 3,  4],\n",
            "       [ 9, 10]]), array([[ 5,  6],\n",
            "       [11, 12]])]\n",
            "[array([[1, 2, 3, 4, 5, 6]]), array([[ 7,  8,  9, 10, 11, 12]])]\n"
          ]
        }
      ],
      "source": [
        "# Ejercicio 1\n",
        "import numpy as np\n",
        "\n",
        "arr = np.array([10, 20, 30, 40, 50, 60, 70])\n",
        "arr1 = np.array_split(arr, 3)\n",
        "for i in arr1:\n",
        "    print(i)\n",
        "\n",
        "# Ejercicio 2\n",
        "arr = np.array([\n",
        "    [1, 2, 3, 4, 5, 6],\n",
        "    [7, 8, 9, 10, 11, 12]\n",
        "])\n",
        "arr1 = np.hsplit(arr, 3)\n",
        "print(arr1)\n",
        "arr2 = np.vsplit(arr, 2)\n",
        "print(arr2)\n",
        "\n",
        "# Ejercicio 3\n",
        "print(\"split(): divide aunque no sean divisibles exactos\")\n",
        "print(\"array_split(): divide pero requiere división exacta\")\n",
        "\n",
        "print(\"hstack() / hsplit(): une horizontalmente\")\n",
        "print(\"vstack() / vsplit(): une verticalmente\")"
      ]
    },
    {
      "cell_type": "markdown",
      "metadata": {
        "id": "l_3iSB4-M9y9"
      },
      "source": [
        "\n",
        "#  NumPy: Búsqueda en arrays (*Searching Arrays*)\n",
        "\n",
        "NumPy permite **buscar valores dentro de un array** y obtener los **índices** donde se encuentran.\n",
        "Esto resulta muy útil cuando queremos localizar elementos o analizar patrones en los datos.\n",
        "\n",
        "**Importancia en ML**\n",
        "\n",
        "Permite acceder de forma eficiente a datos:\n",
        "\n",
        "* Seleccionar características (`X[:, [0, 3, 5]]`)\n",
        "* Filtrar por rangos (`X[(X[:,0]>0.5) & (X[:,1]<1)]`)\n",
        "* Reorganizar datos para entrenamiento en batch.\n",
        "\n",
        "Saber usar **indexación NumPy avanzada** evita bucles y mejora la eficiencia de tus modelos.\n",
        "\n",
        "---\n",
        "\n",
        "## 🔹 1. Buscar elementos con `np.where()`\n",
        "\n",
        "La función `where()` devuelve las posiciones (índices) donde se cumple una determinada condición.\n",
        "El resultado es una **tupla** que contiene los índices coincidentes.\n",
        "\n",
        "### Ejemplo: encontrar dónde está el valor 4"
      ]
    },
    {
      "cell_type": "code",
      "execution_count": null,
      "metadata": {
        "id": "9yMII7DqM9y9",
        "outputId": "9e1ff328-dc2b-490a-e30f-4b586a095b04",
        "colab": {
          "base_uri": "https://localhost:8080/"
        }
      },
      "outputs": [
        {
          "output_type": "stream",
          "name": "stdout",
          "text": [
            "(array([3, 5, 6]),)\n"
          ]
        }
      ],
      "source": [
        "import numpy as np\n",
        "\n",
        "arr = np.array([1, 2, 3, 4, 5, 4, 4])\n",
        "\n",
        "x = np.where(arr == 4)\n",
        "\n",
        "print(x)"
      ]
    },
    {
      "cell_type": "markdown",
      "metadata": {
        "id": "6Y-A_hKMM9y-"
      },
      "source": [
        "Esto significa que el número `4` aparece en los **índices 3, 5 y 6** del array.\n",
        "\n",
        "---\n",
        "\n",
        "### Ejemplo: encontrar los valores **pares**"
      ]
    },
    {
      "cell_type": "code",
      "execution_count": null,
      "metadata": {
        "id": "tM0RABc3M9y-",
        "outputId": "cf05373a-6c9e-4cd1-b86f-614a7dc2387f"
      },
      "outputs": [
        {
          "name": "stdout",
          "output_type": "stream",
          "text": [
            "(array([1, 3, 5, 7]),)\n"
          ]
        }
      ],
      "source": [
        "import numpy as np\n",
        "\n",
        "arr = np.array([1, 2, 3, 4, 5, 6, 7, 8])\n",
        "\n",
        "x = np.where(arr % 2 == 0)\n",
        "\n",
        "print(x)"
      ]
    },
    {
      "cell_type": "markdown",
      "metadata": {
        "id": "uxkhZd9ZM9y-"
      },
      "source": [
        "Estos son los índices donde el valor es par.\n",
        "\n",
        "---\n",
        "\n",
        "### Ejemplo: encontrar los valores **impares**"
      ]
    },
    {
      "cell_type": "code",
      "execution_count": null,
      "metadata": {
        "id": "QWDgZs-RM9y_",
        "colab": {
          "base_uri": "https://localhost:8080/"
        },
        "outputId": "97555a98-997e-44e4-8aca-49dbb637ea54"
      },
      "outputs": [
        {
          "output_type": "stream",
          "name": "stdout",
          "text": [
            "(array([0, 2, 4, 6]),)\n"
          ]
        }
      ],
      "source": [
        "import numpy as np\n",
        "\n",
        "arr = np.array([1, 2, 3, 4, 5, 6, 7, 8])\n",
        "\n",
        "x = np.where(arr % 2 == 1)\n",
        "\n",
        "print(x)"
      ]
    },
    {
      "cell_type": "markdown",
      "metadata": {
        "id": "VZu9PYBuM9y_"
      },
      "source": [
        "Estos índices corresponden a los valores impares.\n",
        "\n",
        "---\n",
        "\n",
        "## 🔹 2. Buscar posiciones de inserción con `np.searchsorted()`\n",
        "\n",
        "El método `searchsorted()` realiza una **búsqueda binaria** en un array **ordenado** y devuelve el índice donde debería insertarse un valor para mantener el orden.\n",
        "\n",
        "### Ejemplo: dónde debería insertarse el valor 7"
      ]
    },
    {
      "cell_type": "code",
      "execution_count": null,
      "metadata": {
        "id": "mzZJ5LVaM9y_",
        "outputId": "5d86c27d-94e6-40f6-ca64-990318bc2195",
        "colab": {
          "base_uri": "https://localhost:8080/"
        }
      },
      "outputs": [
        {
          "output_type": "stream",
          "name": "stdout",
          "text": [
            "1\n"
          ]
        }
      ],
      "source": [
        "import numpy as np\n",
        "\n",
        "arr = np.array([6, 7, 8, 9])\n",
        "\n",
        "x = np.searchsorted(arr, 7)\n",
        "\n",
        "print(x)"
      ]
    },
    {
      "cell_type": "markdown",
      "metadata": {
        "id": "8Wyhs2DqM9y_"
      },
      "source": [
        "**Explicación:**\n",
        "El valor `7` debería colocarse en la **posición 1** para mantener el orden creciente del array.\n",
        "\n",
        "---\n",
        "\n",
        "### 🔸 Buscar desde la derecha\n",
        "\n",
        "Por defecto, `searchsorted()` busca desde la izquierda.\n",
        "Si quieres buscar desde la derecha, añade el parámetro `side='right'`."
      ]
    },
    {
      "cell_type": "code",
      "execution_count": null,
      "metadata": {
        "id": "IGiLKr7bM9y_",
        "outputId": "f1cad05d-e933-4828-aeb2-621fef6f48df"
      },
      "outputs": [
        {
          "name": "stdout",
          "output_type": "stream",
          "text": [
            "2\n"
          ]
        }
      ],
      "source": [
        "import numpy as np\n",
        "\n",
        "arr = np.array([6, 7, 8, 9])\n",
        "\n",
        "x = np.searchsorted(arr, 7, side='right')\n",
        "\n",
        "print(x)"
      ]
    },
    {
      "cell_type": "markdown",
      "metadata": {
        "id": "8ox6_K6vM9zA"
      },
      "source": [
        "Ahora indica que `7` se insertaría en el **índice 2** para mantener el orden, ya que el método busca desde el final.\n",
        "\n",
        "---\n",
        "\n",
        "### 🔸 Buscar varios valores a la vez\n",
        "\n",
        "También puedes buscar **múltiples valores** indicando una lista o array."
      ]
    },
    {
      "cell_type": "code",
      "execution_count": null,
      "metadata": {
        "id": "riye4MDfM9zA",
        "outputId": "4f094358-d967-4ef8-83b4-269dd0f80de0"
      },
      "outputs": [
        {
          "name": "stdout",
          "output_type": "stream",
          "text": [
            "[1 2 3]\n"
          ]
        }
      ],
      "source": [
        "import numpy as np\n",
        "\n",
        "arr = np.array([1, 3, 5, 7])\n",
        "\n",
        "x = np.searchsorted(arr, [2, 4, 6])\n",
        "\n",
        "print(x)"
      ]
    },
    {
      "cell_type": "markdown",
      "metadata": {
        "id": "_miZ3LGHM9zA"
      },
      "source": [
        "Significa que:\n",
        "\n",
        "* El `2` se insertaría en el índice `1`.\n",
        "* El `4` en el índice `2`.\n",
        "* El `6` en el índice `3`.\n",
        "\n",
        "---\n",
        "\n",
        "##  En resumen\n",
        "\n",
        "| Función                                         | Qué hace                                                               | Devuelve        |\n",
        "| ----------------------------------------------- | ---------------------------------------------------------------------- | --------------- |\n",
        "| `np.where(condición)`                           | Devuelve los índices donde se cumple la condición                      | Tupla de arrays |\n",
        "| `np.searchsorted(array, valor)`                 | Devuelve el índice donde se insertaría el valor para mantener el orden | Entero o array  |\n",
        "| `np.searchsorted(array, valores, side='right')` | Igual, pero busca desde la derecha                                     | Entero o array  |\n",
        "\n",
        "---\n",
        "\n",
        "## <font color=\"red\">Actividad práctica 10</font>\n",
        "\n",
        "1. Crea el siguiente array:\n",
        "\n",
        "   ```python\n",
        "   import numpy as np\n",
        "   arr = np.array([5, 10, 15, 10, 20, 10, 25])\n",
        "   ```\n",
        "\n",
        "   * Usa `np.where()` para encontrar todos los índices donde el valor sea **10**.\n",
        "   * Imprime los índices resultantes.\n",
        "\n",
        "---\n",
        "\n",
        "2. Crea un nuevo array ordenado:\n",
        "\n",
        "   ```python\n",
        "   arr2 = np.array([3, 6, 9, 12, 15])\n",
        "   ```\n",
        "\n",
        "   * Usa `np.searchsorted(arr2, 10)` para ver en qué posición se insertaría el número **10**.\n",
        "   * Usa `np.searchsorted(arr2, 10, side='right')` y compara los resultados.\n",
        "\n",
        "---\n",
        "\n",
        "3. Crea un array de varios valores:\n",
        "\n",
        "   ```python\n",
        "   arr3 = np.array([2, 4, 6, 8])\n",
        "   ```\n",
        "\n",
        "   * Usa `np.searchsorted(arr3, [3, 7, 9])`.\n",
        "   * Explica qué significa cada índice obtenido.\n",
        "\n",
        "---\n",
        "\n",
        "4. **Reflexión:**\n",
        "\n",
        "   * ¿Para qué tipo de tareas en Inteligencia Artificial o análisis de datos crees que puede ser útil `where()` o `searchsorted()`?\n",
        "     *(Por ejemplo: localizar errores, clasificar datos o insertar nuevos registros ordenados)*"
      ]
    },
    {
      "cell_type": "code",
      "execution_count": null,
      "metadata": {
        "id": "IF-eDKfmM9zA",
        "colab": {
          "base_uri": "https://localhost:8080/"
        },
        "outputId": "5faa5b7e-4bed-4051-8215-ddeb8585360e"
      },
      "outputs": [
        {
          "output_type": "stream",
          "name": "stdout",
          "text": [
            "Indices donde el valor es 10: (array([1, 3, 5]),)\n",
            "Posición donde se insertaría el valor 10: 3\n",
            "Posición donde se insertaría el valor 10 desde la derecha: 3\n",
            "Posiciones donde se insertarán los valores: [1 3 4]\n",
            "El número 3 se insertara en el indice 1\n",
            "El número 7 se insertara en el indice 3\n",
            "El número 9 se insertara en el indice 4\n",
            "Podria utilizarse para encontrar fallos,clasificación de datos o para insertar nuevos elementos de forma ordenada\n"
          ]
        }
      ],
      "source": [
        "# Ejercicio 1\n",
        "import numpy as np\n",
        "arr = np.array([5, 10, 15, 10, 20, 10, 25])\n",
        "\n",
        "x = np.where(arr == 10)\n",
        "print(\"Indices donde el valor es 10:\", x)\n",
        "\n",
        "# Ejercicio 2\n",
        "arr2 = np.array([3, 6, 9, 12, 15])\n",
        "\n",
        "x = np.searchsorted(arr2, 10)\n",
        "print(\"Posición donde se insertaría el valor 10:\", x)\n",
        "y = np.searchsorted(arr2, 10, side='right')\n",
        "print(\"Posición donde se insertaría el valor 10 desde la derecha:\", y)\n",
        "\n",
        "# Ejercicio 3\n",
        "arr3 = np.array([2, 4, 6, 8])\n",
        "\n",
        "x = np.searchsorted(arr3, [3, 7, 9])\n",
        "print(\"Posiciones donde se insertarán los valores:\", x)\n",
        "\n",
        "print(\"El número 3 se insertara en el indice 1\")\n",
        "print(\"El número 7 se insertara en el indice 3\")\n",
        "print(\"El número 9 se insertara en el indice 4\")\n",
        "\n",
        "# Ejercicio 4\n",
        "print(\"Podria utilizarse para encontrar fallos,clasificación de datos o para insertar nuevos elementos de forma ordenada\")"
      ]
    },
    {
      "cell_type": "markdown",
      "metadata": {
        "id": "3offXdeGM9zA"
      },
      "source": [
        "\n",
        "# 🔝 NumPy: Ordenar arrays (*Sorting Arrays*)\n",
        "\n",
        "**Ordenar** significa colocar los elementos de un array en un **orden determinado**.\n",
        "Por ejemplo:\n",
        "\n",
        "* Numéricamente (de menor a mayor o viceversa).\n",
        "* Alfabéticamente (de la A a la Z o de la Z a la A).\n",
        "* O incluso por valores booleanos (False antes que True).\n",
        "\n",
        "En NumPy, los arrays (`ndarray`) tienen una función muy práctica llamada **`sort()`** que permite hacerlo fácilmente.\n",
        "\n",
        "➡️ **Muy útil en análisis y evaluación**\n",
        "\n",
        "* **`np.where()`** se usa para **localizar índices** que cumplen una condición (por ejemplo, errores de clasificación o máximos locales).\n",
        "* **`np.sort()`** permite **ordenar probabilidades, distancias o errores** para obtener rankings o métricas (por ejemplo, en k-NN o para seleccionar los mayores pesos).\n",
        "* **`np.searchsorted()`** se usa menos, pero es clave en operaciones de búsqueda eficiente en arrays ordenados.\n",
        "\n",
        "Ejemplo:\n",
        "\n",
        "```python\n",
        "# Obtener los índices de las 3 predicciones más altas\n",
        "top3 = np.argsort(predicciones)[-3:]\n",
        "```\n",
        "\n",
        "Fundamental para **evaluar modelos, interpretar resultados o aplicar reglas personalizadas.**\n",
        "\n",
        "---\n",
        "\n",
        "## 🔹 1. Ordenar arrays numéricos\n",
        "\n",
        "El método `np.sort()` devuelve una **copia ordenada del array**, sin modificar el original.\n",
        "\n",
        "### Ejemplo:"
      ]
    },
    {
      "cell_type": "code",
      "execution_count": null,
      "metadata": {
        "id": "TIbk_fKPM9zB",
        "outputId": "9ed8e8bc-1be8-453f-e176-891ff9d9888e"
      },
      "outputs": [
        {
          "name": "stdout",
          "output_type": "stream",
          "text": [
            "[0 1 2 3]\n"
          ]
        }
      ],
      "source": [
        "import numpy as np\n",
        "\n",
        "arr = np.array([3, 2, 0, 1])\n",
        "\n",
        "print(np.sort(arr))"
      ]
    },
    {
      "cell_type": "markdown",
      "metadata": {
        "id": "c-Y-6c4HM9zB"
      },
      "source": [
        "Nota:\n",
        "El array original `arr` **no cambia**; `np.sort()` crea un nuevo array con los valores ordenados.\n",
        "\n",
        "---\n",
        "\n",
        "## 🔹 2. Ordenar arrays de cadenas (strings)\n",
        "\n",
        "`np.sort()` también funciona con texto: los ordena alfabéticamente."
      ]
    },
    {
      "cell_type": "code",
      "execution_count": null,
      "metadata": {
        "id": "Kwyjk6vLM9zB"
      },
      "outputs": [],
      "source": [
        "import numpy as np\n",
        "\n",
        "arr = np.array(['banana', 'cherry', 'apple'])\n",
        "\n",
        "print(np.sort(arr))"
      ]
    },
    {
      "cell_type": "markdown",
      "metadata": {
        "id": "NvOaXuTCM9zB"
      },
      "source": [
        "Ordena según el alfabeto (A → Z).\n",
        "En inglés o español funciona igual siempre que las cadenas estén codificadas en ASCII o UTF-8.\n",
        "\n",
        "---\n",
        "\n",
        "## 🔹 3. Ordenar arrays booleanos\n",
        "\n",
        "Los valores booleanos (`True` y `False`) también se pueden ordenar:\n",
        "\n",
        "* `False` se considera **0**\n",
        "* `True` se considera **1**\n",
        "\n",
        "### Ejemplo:"
      ]
    },
    {
      "cell_type": "code",
      "execution_count": null,
      "metadata": {
        "id": "yDHtlpb4M9zB",
        "outputId": "e1bd80c4-e579-4e35-dde4-50a83eb41603"
      },
      "outputs": [
        {
          "name": "stdout",
          "output_type": "stream",
          "text": [
            "[False  True  True]\n"
          ]
        }
      ],
      "source": [
        "import numpy as np\n",
        "\n",
        "arr = np.array([True, False, True])\n",
        "\n",
        "print(np.sort(arr))"
      ]
    },
    {
      "cell_type": "markdown",
      "metadata": {
        "id": "tT6Uk6YRM9zC"
      },
      "source": [
        "---\n",
        "\n",
        "## 🔹 4. Ordenar arrays bidimensionales (2D)\n",
        "\n",
        "Cuando usamos `np.sort()` en un array 2D, **ordena cada fila de forma independiente**, manteniendo las dimensiones.\n",
        "\n",
        "### Ejemplo:"
      ]
    },
    {
      "cell_type": "code",
      "execution_count": null,
      "metadata": {
        "id": "-iUvZDS_M9zC",
        "outputId": "8fb77e3d-f997-4b04-d1dd-beca397bea33"
      },
      "outputs": [
        {
          "name": "stdout",
          "output_type": "stream",
          "text": [
            "[[2 3 4]\n",
            " [0 1 5]]\n"
          ]
        }
      ],
      "source": [
        "import numpy as np\n",
        "\n",
        "arr = np.array([[3, 2, 4], [5, 0, 1]])\n",
        "\n",
        "print(np.sort(arr))"
      ]
    },
    {
      "cell_type": "markdown",
      "metadata": {
        "id": "6gfQjYz-M9zC"
      },
      "source": [
        "quí, NumPy ha ordenado **cada fila** individualmente en orden ascendente.\n",
        "\n",
        "---\n",
        "\n",
        "##  En resumen\n",
        "\n",
        "| Tipo de datos   | Resultado                | Observaciones                   |\n",
        "| --------------- | ------------------------ | ------------------------------- |\n",
        "| Numérico        | Orden ascendente         | `[0 1 2 3]`                     |\n",
        "| Texto (strings) | Orden alfabético         | `['apple', 'banana', 'cherry']` |\n",
        "| Booleano        | `False` antes que `True` | `[False, True, True]`           |\n",
        "| 2D              | Ordena cada fila         | mantiene la forma original      |\n",
        "\n",
        "---\n",
        "\n",
        "### <font color=\"red\">Actividad práctica 11</font>\n",
        "\n",
        "1. Crea un array con los números `[5, 1, 8, 3, 7, 2]`\n",
        "\n",
        "   * Ordénalo con `np.sort()`\n",
        "   * Comprueba que el array original **no cambia**.\n",
        "\n",
        "---\n",
        "\n",
        "2. Crea un array de cadenas:\n",
        "\n",
        "   ```python\n",
        "   frutas = np.array([\"pera\", \"naranja\", \"kiwi\", \"manzana\"])\n",
        "   ```\n",
        "\n",
        "   * Ordénalo alfabéticamente con `np.sort(frutas)`\n",
        "   * ¿Qué fruta aparece primero?\n",
        "\n",
        "---\n",
        "\n",
        "3. Crea un array booleano:\n",
        "\n",
        "   ```python\n",
        "   estados = np.array([True, False, False, True, True])\n",
        "   ```\n",
        "\n",
        "   * Ordénalo con `np.sort(estados)`\n",
        "   * ¿Qué valor aparece al principio?\n",
        "\n",
        "---\n",
        "\n",
        "4. Crea el siguiente array 2D:\n",
        "\n",
        "   ```python\n",
        "   datos = np.array([[4, 9, 1], [8, 3, 5]])\n",
        "   ```\n",
        "\n",
        "   * Usa `np.sort(datos)`\n",
        "   * Explica cómo ordena los valores y qué filas cambian.\n",
        "\n",
        "---\n",
        "\n",
        "5. **Reto adicional:**\n",
        "\n",
        "   * ¿Cómo podrías ordenar un array 1D en **orden descendente** (de mayor a menor)?\n",
        "     *(Pista: puedes combinar `np.sort()` con slicing inverso `[::-1]`)*"
      ]
    },
    {
      "cell_type": "code",
      "execution_count": 6,
      "metadata": {
        "id": "-BR7b4sfM9zC",
        "colab": {
          "base_uri": "https://localhost:8080/"
        },
        "outputId": "e110d7d4-a6bd-4b53-9441-67eafad6ec8c"
      },
      "outputs": [
        {
          "output_type": "stream",
          "name": "stdout",
          "text": [
            "Numeros: [5 1 8 3 7 2]\n",
            "Números ordenados: [1 2 3 5 7 8]\n",
            "Frutas ordenadas: ['kiwi' 'manzana' 'naranja' 'pera']\n",
            "Primera fruta: kiwi\n",
            "Estados ordenados: [False False  True  True  True]\n",
            "Primer estado: False\n",
            "Datos ordenados: [[1 4 9]\n",
            " [3 5 8]]\n",
            "Ordena dentro del array los elementos de cada fila\n"
          ]
        }
      ],
      "source": [
        "# Ejercicio 1\n",
        "import numpy as np\n",
        "num = np.array([5, 1, 8, 3, 7, 2])\n",
        "num_or = np.sort(num)\n",
        "\n",
        "print(\"Numeros:\",num)\n",
        "print(\"Números ordenados:\",num_or)\n",
        "\n",
        "# Ejercicio 2\n",
        "frutas = np.array([\"pera\", \"naranja\", \"kiwi\", \"manzana\"])\n",
        "frutas_or = np.sort(frutas)\n",
        "\n",
        "print(\"Frutas ordenadas:\", frutas_or)\n",
        "print(\"Primera fruta:\", frutas_or[0])\n",
        "\n",
        "# Ejercicio 3\n",
        "estados = np.array([True, False, False, True, True])\n",
        "estados_or = np.sort(estados)\n",
        "\n",
        "print(\"Estados ordenados:\", estados_or)\n",
        "print(\"Primer estado:\", estados_or[0])\n",
        "\n",
        "# Ejercicio 4\n",
        "datos = np.array([[4, 9, 1], [8, 3, 5]])\n",
        "datos_or = np.sort(datos)\n",
        "\n",
        "print(\"Datos ordenados:\", datos_or)\n",
        "print(\"Ordena dentro del array los elementos de cada fila\")\n"
      ]
    },
    {
      "cell_type": "markdown",
      "metadata": {
        "id": "Z8HA98qLM9zC"
      },
      "source": [
        "\n",
        "#  🔝 NumPy: Filtrar arrays (*Filter Arrays*)\n",
        "\n",
        "Filtrar un array significa **obtener algunos elementos específicos** de un array existente para crear un **nuevo array** con ellos.\n",
        "\n",
        "En otras palabras, nos quedamos solo con los valores que cumplen una condición.\n",
        "\n",
        "**Imprescindible en ML**\n",
        "\n",
        "En Machine Learning se usa constantemente para **preprocesar datos**:\n",
        "\n",
        "* Quitar valores faltantes o erróneos.\n",
        "* Seleccionar subconjuntos de datos (por ejemplo, solo filas con clase “1”).\n",
        "* Aplicar máscaras sobre datasets grandes (por ejemplo, `X[y == 0]`).\n",
        "\n",
        "Ejemplo real:\n",
        "\n",
        "```python\n",
        "X = X[y != -1]  # eliminar muestras con etiqueta desconocida\n",
        "y = y[y != -1]\n",
        "```\n",
        "\n",
        "Este tipo de filtrado vectorizado es **la base del manejo eficiente de datos** con NumPy, pandas o frameworks como TensorFlow y PyTorch.\n",
        "\n",
        "\n",
        "---\n",
        "\n",
        "## 🔹 1. Filtrar usando una lista booleana\n",
        "\n",
        "En NumPy, se puede filtrar un array usando una **lista de valores booleanos** (`True` o `False`).\n",
        "Cada valor en la lista indica si el elemento del array original debe incluirse o no:\n",
        "\n",
        "* `True` → el elemento se mantiene.\n",
        "* `False` → el elemento se descarta.\n",
        "\n",
        "---\n",
        "\n",
        "### Ejemplo: crear un array con los elementos en las posiciones 0 y 2\n"
      ]
    },
    {
      "cell_type": "code",
      "execution_count": 7,
      "metadata": {
        "id": "ErCGAEqOM9zD",
        "outputId": "4490ffe2-de5d-41d4-f1fb-e505256b1c7e",
        "colab": {
          "base_uri": "https://localhost:8080/"
        }
      },
      "outputs": [
        {
          "output_type": "stream",
          "name": "stdout",
          "text": [
            "[41 43]\n"
          ]
        }
      ],
      "source": [
        "\n",
        "import numpy as np\n",
        "\n",
        "arr = np.array([41, 42, 43, 44])\n",
        "\n",
        "x = [True, False, True, False]\n",
        "\n",
        "newarr = arr[x]\n",
        "\n",
        "print(newarr)"
      ]
    },
    {
      "cell_type": "markdown",
      "metadata": {
        "id": "nG_b198aM9zD"
      },
      "source": [
        "**Explicación:**\n",
        "El nuevo array contiene los elementos de las posiciones donde la lista booleana tiene `True`:\n",
        "índices **0** y **2** → `[41, 43]`.\n",
        "\n",
        "---\n",
        "\n",
        "## 🔹 2. Crear un filtro de forma manual (con un bucle)\n",
        "\n",
        "Lo más común es crear esa lista booleana de forma automática según una **condición**.\n",
        "\n",
        "---\n",
        "\n",
        "### Ejemplo: valores mayores que 42"
      ]
    },
    {
      "cell_type": "code",
      "execution_count": null,
      "metadata": {
        "id": "omwyKdd-M9zD",
        "outputId": "1df436da-3e64-4ece-d537-ee70baf5740b"
      },
      "outputs": [
        {
          "name": "stdout",
          "output_type": "stream",
          "text": [
            "[False, False, True, True]\n",
            "[43 44]\n"
          ]
        }
      ],
      "source": [
        "import numpy as np\n",
        "\n",
        "arr = np.array([41, 42, 43, 44])\n",
        "\n",
        "# Creamos una lista vacía\n",
        "filter_arr = []\n",
        "\n",
        "# Recorremos cada elemento del array\n",
        "for element in arr:\n",
        "  # Si el elemento es mayor que 42, añadimos True, si no, False\n",
        "  if element > 42:\n",
        "    filter_arr.append(True)\n",
        "  else:\n",
        "    filter_arr.append(False)\n",
        "\n",
        "newarr = arr[filter_arr]\n",
        "\n",
        "print(filter_arr)\n",
        "print(newarr)"
      ]
    },
    {
      "cell_type": "markdown",
      "metadata": {
        "id": "8URSOhRTM9zD"
      },
      "source": [
        " Solo se mantienen los valores que cumplen la condición (> 42).\n",
        "\n",
        "---\n",
        "\n",
        "### Ejemplo: valores pares"
      ]
    },
    {
      "cell_type": "code",
      "execution_count": null,
      "metadata": {
        "id": "n3PKpr0TM9zE",
        "outputId": "0ea0ecb5-b0d7-4ef7-ae12-666b6b73bf9a"
      },
      "outputs": [
        {
          "name": "stdout",
          "output_type": "stream",
          "text": [
            "[False, True, False, True, False, True, False]\n",
            "[2 4 6]\n"
          ]
        }
      ],
      "source": [
        "import numpy as np\n",
        "\n",
        "arr = np.array([1, 2, 3, 4, 5, 6, 7])\n",
        "\n",
        "filter_arr = []\n",
        "\n",
        "for element in arr:\n",
        "  if element % 2 == 0:\n",
        "    filter_arr.append(True)\n",
        "  else:\n",
        "    filter_arr.append(False)\n",
        "\n",
        "newarr = arr[filter_arr]\n",
        "\n",
        "print(filter_arr)\n",
        "print(newarr)"
      ]
    },
    {
      "cell_type": "markdown",
      "metadata": {
        "id": "-1jsl7ghM9zE"
      },
      "source": [
        "---\n",
        "\n",
        "## 🔹 3. Crear el filtro directamente (sin bucles)\n",
        "\n",
        "NumPy permite aplicar condiciones **directamente sobre el array**, lo que hace el código mucho más corto y rápido.\n",
        "\n",
        "En lugar de usar un bucle, simplemente escribimos la condición:\n",
        "\n",
        "---\n",
        "\n",
        "### Ejemplo: valores mayores que 42"
      ]
    },
    {
      "cell_type": "code",
      "execution_count": 8,
      "metadata": {
        "id": "h3g568S6M9zE",
        "outputId": "8fcd6210-919a-4ba4-8802-b56f3e6e26e1",
        "colab": {
          "base_uri": "https://localhost:8080/"
        }
      },
      "outputs": [
        {
          "output_type": "stream",
          "name": "stdout",
          "text": [
            "[False False  True  True]\n",
            "[43 44]\n"
          ]
        }
      ],
      "source": [
        "import numpy as np\n",
        "\n",
        "arr = np.array([41, 42, 43, 44])\n",
        "\n",
        "filter_arr = arr > 42\n",
        "\n",
        "newarr = arr[filter_arr]\n",
        "\n",
        "print(filter_arr)\n",
        "print(newarr)"
      ]
    },
    {
      "cell_type": "markdown",
      "metadata": {
        "id": "0hDJnAfqM9zE"
      },
      "source": [
        "---\n",
        "\n",
        "### Ejemplo: valores pares"
      ]
    },
    {
      "cell_type": "code",
      "execution_count": null,
      "metadata": {
        "id": "BT_Gz2LYM9zE"
      },
      "outputs": [],
      "source": [
        "import numpy as np\n",
        "\n",
        "arr = np.array([1, 2, 3, 4, 5, 6, 7])\n",
        "\n",
        "filter_arr = arr % 2 == 0\n",
        "\n",
        "newarr = arr[filter_arr]\n",
        "\n",
        "print(filter_arr)\n",
        "print(newarr)"
      ]
    },
    {
      "cell_type": "markdown",
      "metadata": {
        "id": "R_AZNgZnM9zF"
      },
      "source": [
        "**Ventaja:**\n",
        "Este método es más rápido, más legible y aprovecha la vectorización de NumPy (sin necesidad de recorrer los elementos con un bucle `for`).\n",
        "\n",
        "---\n",
        "\n",
        "##  En resumen\n",
        "\n",
        "| Método                   | Cómo funciona                                      | Ejemplo                     | Resultado                     |\n",
        "| ------------------------ | -------------------------------------------------- | --------------------------- | ----------------------------- |\n",
        "| Lista booleana manual    | Se indica `True` o `False` por cada elemento       | `[True, False, True]`       | Mantiene los elementos `True` |\n",
        "| Filtro con bucle         | Crea una lista booleana según condición            | `x > 10` dentro de un `for` | Filtra según una regla        |\n",
        "| Filtro directo con NumPy | Se aplica la condición directamente sobre el array | `arr[arr > 10]`             | Más simple y eficiente        |\n",
        "\n",
        "---\n",
        "\n",
        "### 💡 Consejo práctico\n",
        "\n",
        "Puedes combinar condiciones con **operadores lógicos**:\n",
        "\n",
        "* `&` (AND)\n",
        "* `|` (OR)\n",
        "* `~` (NOT)\n",
        "\n",
        "Ejemplo:\n",
        "\n",
        "```python\n",
        "arr = np.array([10, 20, 30, 40, 50])\n",
        "newarr = arr[(arr > 15) & (arr < 45)]\n",
        "print(newarr)\n",
        "# [20 30 40]\n",
        "```\n",
        "\n",
        "---\n",
        "\n",
        "## <font color=\"red\">Actividad práctica 12</font>\n",
        "\n",
        "1. Crea un array:\n",
        "\n",
        "   ```python\n",
        "   import numpy as np\n",
        "   edades = np.array([15, 18, 21, 16, 25, 30, 17])\n",
        "   ```\n",
        "\n",
        "   * Filtra los valores **mayores o iguales a 18** (mayores de edad).\n",
        "   * Muestra el nuevo array.\n",
        "\n",
        "---\n",
        "\n",
        "2. Crea el array:\n",
        "\n",
        "   ```python\n",
        "   numeros = np.array([5, 12, 7, 18, 20, 3, 9])\n",
        "   ```\n",
        "\n",
        "   * Filtra solo los **valores pares**.\n",
        "   * Luego filtra los **valores impares**.\n",
        "\n",
        "---\n",
        "\n",
        "3. Crea un array con temperaturas en ºC:\n",
        "\n",
        "   ```python\n",
        "   temperaturas = np.array([-2, 5, 12, 0, 18, 25, -1])\n",
        "   ```\n",
        "\n",
        "   * Filtra las temperaturas **mayores o iguales a 0** (temperaturas positivas).\n",
        "   * Filtra las que estén **entre 10 y 20 grados**.\n",
        "\n",
        "---\n",
        "\n",
        "4. **Reflexiona:**\n",
        "\n",
        "   * ¿Qué ventajas tiene usar filtros directos con NumPy frente a los bucles normales en Python?\n",
        "   * ¿En qué tipo de análisis o proyectos de IA podría resultarte útil filtrar arrays?"
      ]
    },
    {
      "cell_type": "code",
      "source": [
        "# Ejercicio 1\n",
        "import numpy as np\n",
        "edades = np.array([15, 18, 21, 16, 25, 30, 17])\n",
        "\n",
        "mayor = edades >= 18\n",
        "edades_m = edades[mayor]\n",
        "\n",
        "print(\"Edades mayor de edad:\", edades_m)\n",
        "\n",
        "# Ejercicio 2\n",
        "numeros = np.array([5, 12, 7, 18, 20, 3, 9])\n",
        "par = numeros % 2 == 0\n",
        "impar = numeros % 2 == 1\n",
        "\n",
        "print(\"Numeros pares:\", numeros[par])\n",
        "print(\"Numeros impares:\", numeros[impar])\n",
        "\n",
        "# Ejercicio 3\n",
        "temperaturas = np.array([-2, 5, 12, 0, 18, 25, -1])\n",
        "t_mayor = temperaturas >= 0\n",
        "tem_filtro = (temperaturas > 10) & (temperaturas < 20)\n",
        "\n",
        "print(\"Temperatura mayor o igual a 0 grados:\", temperaturas[t_mayor])\n",
        "print(\"Temperatura entre 10 y 20 grados:\", temperaturas[tem_filtro])\n",
        "\n",
        "# Ejercicio 4\n",
        "print(\"Que funciona como un for anidado en una sola linea\")\n",
        "print(\"Para preprocesar datos en Machine Learning\")"
      ],
      "metadata": {
        "colab": {
          "base_uri": "https://localhost:8080/"
        },
        "id": "IsVU2X0Gmnu0",
        "outputId": "6350b498-b1a1-48c5-c9f5-b86643efcbb9"
      },
      "execution_count": 18,
      "outputs": [
        {
          "output_type": "stream",
          "name": "stdout",
          "text": [
            "Edades mayor de edad: [18 21 25 30]\n",
            "Numeros pares: [12 18 20]\n",
            "Numeros impares: [5 7 3 9]\n",
            "Temperatura mayor o igual a 0 grados: [ 5 12  0 18 25]\n",
            "Temperatura entre 10 y 20 grados: [12 18]\n",
            "Que funciona como un for anidado en una sola linea\n",
            "Para preprocesar datos en Machine Learning\n"
          ]
        }
      ]
    },
    {
      "cell_type": "markdown",
      "metadata": {
        "id": "cIgGAuF4M9zG"
      },
      "source": [
        "##  **Bibliografía y recursos de referencia**\n",
        "\n",
        "El contenido y los ejemplos prácticos de este cuaderno están basados y adaptados del curso original de **NumPy** de [W3Schools](https://www.w3schools.com/python/numpy_intro.asp), un recurso introductorio ampliamente utilizado para el aprendizaje de programación científica en Python.\n",
        "\n",
        "**Referencia principal:**\n",
        "\n",
        "> W3Schools. (2025). *Python NumPy Tutorial*. Recuperado de\n",
        "> [https://www.w3schools.com/python/numpy_intro.asp](https://www.w3schools.com/python/numpy_intro.asp)\n",
        "\n",
        "**Adaptación docente:**\n",
        "\n",
        "> Versión adaptada por el profesor Carlos Tessier (IES San Andrés) para el módulo\n",
        "> *Programación de Inteligencia Artificial* del *Curso de Especialización en Inteligencia Artificial y Big Data (2025–26)*.\n",
        "\n",
        "---"
      ]
    }
  ],
  "metadata": {
    "colab": {
      "provenance": [],
      "toc_visible": true
    },
    "kernelspec": {
      "display_name": "Python 3",
      "name": "python3"
    },
    "language_info": {
      "codemirror_mode": {
        "name": "ipython",
        "version": 3
      },
      "file_extension": ".py",
      "mimetype": "text/x-python",
      "name": "python",
      "nbconvert_exporter": "python",
      "pygments_lexer": "ipython3",
      "version": "3.11.11"
    }
  },
  "nbformat": 4,
  "nbformat_minor": 0
}